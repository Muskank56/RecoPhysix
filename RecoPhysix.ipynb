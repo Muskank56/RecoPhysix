{
  "nbformat": 4,
  "nbformat_minor": 0,
  "metadata": {
    "colab": {
      "provenance": [],
      "toc_visible": true,
      "authorship_tag": "ABX9TyOXYfZVDEx8S0ElX/wZQy0M",
      "include_colab_link": true
    },
    "kernelspec": {
      "name": "python3",
      "display_name": "Python 3"
    },
    "language_info": {
      "name": "python"
    }
  },
  "cells": [
    {
      "cell_type": "markdown",
      "metadata": {
        "id": "view-in-github",
        "colab_type": "text"
      },
      "source": [
        "<a href=\"https://colab.research.google.com/github/Muskank56/RecoPhysix/blob/main/RecoPhysix.ipynb\" target=\"_parent\"><img src=\"https://colab.research.google.com/assets/colab-badge.svg\" alt=\"Open In Colab\"/></a>"
      ]
    },
    {
      "cell_type": "code",
      "source": [
        "from google.colab import drive\n",
        "drive.mount('/content/drive')\n"
      ],
      "metadata": {
        "colab": {
          "base_uri": "https://localhost:8080/"
        },
        "id": "qO8kAenIR3Es",
        "outputId": "17153f33-7f01-4e2d-fa83-48b1ac40aa62"
      },
      "execution_count": 1,
      "outputs": [
        {
          "output_type": "stream",
          "name": "stdout",
          "text": [
            "Mounted at /content/drive\n"
          ]
        }
      ]
    },
    {
      "cell_type": "code",
      "source": [
        "!ls /content/drive/MyDrive/recophysix_dataset\n",
        "\n",
        "\n",
        "\n"
      ],
      "metadata": {
        "colab": {
          "base_uri": "https://localhost:8080/"
        },
        "id": "umLChgKcYwd7",
        "outputId": "73c41d32-e2ca-4714-d82b-8169f4bfae83"
      },
      "execution_count": 2,
      "outputs": [
        {
          "output_type": "stream",
          "name": "stdout",
          "text": [
            "preprocessed_questions.csv  RecoPhysix_Dataset.csv  subjects-questions.csv.zip\n"
          ]
        }
      ]
    },
    {
      "cell_type": "code",
      "source": [
        "import pandas as pd\n",
        "import zipfile\n",
        "import os\n",
        "\n",
        "# Correct path to the zip file in Google Drive\n",
        "zip_file_path = '/content/drive/MyDrive/recophysix_dataset/subjects-questions.csv.zip'\n",
        "extracted_dir = 'extracted_data'\n",
        "csv_file_name = 'subjects-questions.csv'\n",
        "csv_file_path = os.path.join(extracted_dir, csv_file_name)\n",
        "\n",
        "# Create a directory to extract the contents\n",
        "os.makedirs(extracted_dir, exist_ok=True)\n",
        "\n",
        "# Extract the CSV file from the zip file\n",
        "with zipfile.ZipFile(zip_file_path, 'r') as zip_ref:\n",
        "    zip_ref.extract(csv_file_name, extracted_dir)\n",
        "\n",
        "# Load the dataset\n",
        "subject_df = pd.read_csv(csv_file_path)\n",
        "display(subject_df.head())\n"
      ],
      "metadata": {
        "colab": {
          "base_uri": "https://localhost:8080/",
          "height": 206
        },
        "id": "xeQitWmmYOsa",
        "outputId": "681f4345-ab53-49ce-d43c-da3c1eb054fd"
      },
      "execution_count": 3,
      "outputs": [
        {
          "output_type": "display_data",
          "data": {
            "text/plain": [
              "                                                 eng    Subject\n",
              "0  An anti-forest measure is\\nA. Afforestation\\nB...    Biology\n",
              "1  Among the following organic acids, the acid pr...  Chemistry\n",
              "2  If the area of two similar triangles are equal...      Maths\n",
              "3  In recent year, there has been a growing\\nconc...    Biology\n",
              "4  Which of the following statement\\nregarding tr...    Physics"
            ],
            "text/html": [
              "\n",
              "  <div id=\"df-c53e80e0-5323-4afe-8195-3a89ba971004\" class=\"colab-df-container\">\n",
              "    <div>\n",
              "<style scoped>\n",
              "    .dataframe tbody tr th:only-of-type {\n",
              "        vertical-align: middle;\n",
              "    }\n",
              "\n",
              "    .dataframe tbody tr th {\n",
              "        vertical-align: top;\n",
              "    }\n",
              "\n",
              "    .dataframe thead th {\n",
              "        text-align: right;\n",
              "    }\n",
              "</style>\n",
              "<table border=\"1\" class=\"dataframe\">\n",
              "  <thead>\n",
              "    <tr style=\"text-align: right;\">\n",
              "      <th></th>\n",
              "      <th>eng</th>\n",
              "      <th>Subject</th>\n",
              "    </tr>\n",
              "  </thead>\n",
              "  <tbody>\n",
              "    <tr>\n",
              "      <th>0</th>\n",
              "      <td>An anti-forest measure is\\nA. Afforestation\\nB...</td>\n",
              "      <td>Biology</td>\n",
              "    </tr>\n",
              "    <tr>\n",
              "      <th>1</th>\n",
              "      <td>Among the following organic acids, the acid pr...</td>\n",
              "      <td>Chemistry</td>\n",
              "    </tr>\n",
              "    <tr>\n",
              "      <th>2</th>\n",
              "      <td>If the area of two similar triangles are equal...</td>\n",
              "      <td>Maths</td>\n",
              "    </tr>\n",
              "    <tr>\n",
              "      <th>3</th>\n",
              "      <td>In recent year, there has been a growing\\nconc...</td>\n",
              "      <td>Biology</td>\n",
              "    </tr>\n",
              "    <tr>\n",
              "      <th>4</th>\n",
              "      <td>Which of the following statement\\nregarding tr...</td>\n",
              "      <td>Physics</td>\n",
              "    </tr>\n",
              "  </tbody>\n",
              "</table>\n",
              "</div>\n",
              "    <div class=\"colab-df-buttons\">\n",
              "\n",
              "  <div class=\"colab-df-container\">\n",
              "    <button class=\"colab-df-convert\" onclick=\"convertToInteractive('df-c53e80e0-5323-4afe-8195-3a89ba971004')\"\n",
              "            title=\"Convert this dataframe to an interactive table.\"\n",
              "            style=\"display:none;\">\n",
              "\n",
              "  <svg xmlns=\"http://www.w3.org/2000/svg\" height=\"24px\" viewBox=\"0 -960 960 960\">\n",
              "    <path d=\"M120-120v-720h720v720H120Zm60-500h600v-160H180v160Zm220 220h160v-160H400v160Zm0 220h160v-160H400v160ZM180-400h160v-160H180v160Zm440 0h160v-160H620v160ZM180-180h160v-160H180v160Zm440 0h160v-160H620v160Z\"/>\n",
              "  </svg>\n",
              "    </button>\n",
              "\n",
              "  <style>\n",
              "    .colab-df-container {\n",
              "      display:flex;\n",
              "      gap: 12px;\n",
              "    }\n",
              "\n",
              "    .colab-df-convert {\n",
              "      background-color: #E8F0FE;\n",
              "      border: none;\n",
              "      border-radius: 50%;\n",
              "      cursor: pointer;\n",
              "      display: none;\n",
              "      fill: #1967D2;\n",
              "      height: 32px;\n",
              "      padding: 0 0 0 0;\n",
              "      width: 32px;\n",
              "    }\n",
              "\n",
              "    .colab-df-convert:hover {\n",
              "      background-color: #E2EBFA;\n",
              "      box-shadow: 0px 1px 2px rgba(60, 64, 67, 0.3), 0px 1px 3px 1px rgba(60, 64, 67, 0.15);\n",
              "      fill: #174EA6;\n",
              "    }\n",
              "\n",
              "    .colab-df-buttons div {\n",
              "      margin-bottom: 4px;\n",
              "    }\n",
              "\n",
              "    [theme=dark] .colab-df-convert {\n",
              "      background-color: #3B4455;\n",
              "      fill: #D2E3FC;\n",
              "    }\n",
              "\n",
              "    [theme=dark] .colab-df-convert:hover {\n",
              "      background-color: #434B5C;\n",
              "      box-shadow: 0px 1px 3px 1px rgba(0, 0, 0, 0.15);\n",
              "      filter: drop-shadow(0px 1px 2px rgba(0, 0, 0, 0.3));\n",
              "      fill: #FFFFFF;\n",
              "    }\n",
              "  </style>\n",
              "\n",
              "    <script>\n",
              "      const buttonEl =\n",
              "        document.querySelector('#df-c53e80e0-5323-4afe-8195-3a89ba971004 button.colab-df-convert');\n",
              "      buttonEl.style.display =\n",
              "        google.colab.kernel.accessAllowed ? 'block' : 'none';\n",
              "\n",
              "      async function convertToInteractive(key) {\n",
              "        const element = document.querySelector('#df-c53e80e0-5323-4afe-8195-3a89ba971004');\n",
              "        const dataTable =\n",
              "          await google.colab.kernel.invokeFunction('convertToInteractive',\n",
              "                                                    [key], {});\n",
              "        if (!dataTable) return;\n",
              "\n",
              "        const docLinkHtml = 'Like what you see? Visit the ' +\n",
              "          '<a target=\"_blank\" href=https://colab.research.google.com/notebooks/data_table.ipynb>data table notebook</a>'\n",
              "          + ' to learn more about interactive tables.';\n",
              "        element.innerHTML = '';\n",
              "        dataTable['output_type'] = 'display_data';\n",
              "        await google.colab.output.renderOutput(dataTable, element);\n",
              "        const docLink = document.createElement('div');\n",
              "        docLink.innerHTML = docLinkHtml;\n",
              "        element.appendChild(docLink);\n",
              "      }\n",
              "    </script>\n",
              "  </div>\n",
              "\n",
              "\n",
              "    <div id=\"df-b5f51b34-84fd-4655-8132-910f2906552b\">\n",
              "      <button class=\"colab-df-quickchart\" onclick=\"quickchart('df-b5f51b34-84fd-4655-8132-910f2906552b')\"\n",
              "                title=\"Suggest charts\"\n",
              "                style=\"display:none;\">\n",
              "\n",
              "<svg xmlns=\"http://www.w3.org/2000/svg\" height=\"24px\"viewBox=\"0 0 24 24\"\n",
              "     width=\"24px\">\n",
              "    <g>\n",
              "        <path d=\"M19 3H5c-1.1 0-2 .9-2 2v14c0 1.1.9 2 2 2h14c1.1 0 2-.9 2-2V5c0-1.1-.9-2-2-2zM9 17H7v-7h2v7zm4 0h-2V7h2v10zm4 0h-2v-4h2v4z\"/>\n",
              "    </g>\n",
              "</svg>\n",
              "      </button>\n",
              "\n",
              "<style>\n",
              "  .colab-df-quickchart {\n",
              "      --bg-color: #E8F0FE;\n",
              "      --fill-color: #1967D2;\n",
              "      --hover-bg-color: #E2EBFA;\n",
              "      --hover-fill-color: #174EA6;\n",
              "      --disabled-fill-color: #AAA;\n",
              "      --disabled-bg-color: #DDD;\n",
              "  }\n",
              "\n",
              "  [theme=dark] .colab-df-quickchart {\n",
              "      --bg-color: #3B4455;\n",
              "      --fill-color: #D2E3FC;\n",
              "      --hover-bg-color: #434B5C;\n",
              "      --hover-fill-color: #FFFFFF;\n",
              "      --disabled-bg-color: #3B4455;\n",
              "      --disabled-fill-color: #666;\n",
              "  }\n",
              "\n",
              "  .colab-df-quickchart {\n",
              "    background-color: var(--bg-color);\n",
              "    border: none;\n",
              "    border-radius: 50%;\n",
              "    cursor: pointer;\n",
              "    display: none;\n",
              "    fill: var(--fill-color);\n",
              "    height: 32px;\n",
              "    padding: 0;\n",
              "    width: 32px;\n",
              "  }\n",
              "\n",
              "  .colab-df-quickchart:hover {\n",
              "    background-color: var(--hover-bg-color);\n",
              "    box-shadow: 0 1px 2px rgba(60, 64, 67, 0.3), 0 1px 3px 1px rgba(60, 64, 67, 0.15);\n",
              "    fill: var(--button-hover-fill-color);\n",
              "  }\n",
              "\n",
              "  .colab-df-quickchart-complete:disabled,\n",
              "  .colab-df-quickchart-complete:disabled:hover {\n",
              "    background-color: var(--disabled-bg-color);\n",
              "    fill: var(--disabled-fill-color);\n",
              "    box-shadow: none;\n",
              "  }\n",
              "\n",
              "  .colab-df-spinner {\n",
              "    border: 2px solid var(--fill-color);\n",
              "    border-color: transparent;\n",
              "    border-bottom-color: var(--fill-color);\n",
              "    animation:\n",
              "      spin 1s steps(1) infinite;\n",
              "  }\n",
              "\n",
              "  @keyframes spin {\n",
              "    0% {\n",
              "      border-color: transparent;\n",
              "      border-bottom-color: var(--fill-color);\n",
              "      border-left-color: var(--fill-color);\n",
              "    }\n",
              "    20% {\n",
              "      border-color: transparent;\n",
              "      border-left-color: var(--fill-color);\n",
              "      border-top-color: var(--fill-color);\n",
              "    }\n",
              "    30% {\n",
              "      border-color: transparent;\n",
              "      border-left-color: var(--fill-color);\n",
              "      border-top-color: var(--fill-color);\n",
              "      border-right-color: var(--fill-color);\n",
              "    }\n",
              "    40% {\n",
              "      border-color: transparent;\n",
              "      border-right-color: var(--fill-color);\n",
              "      border-top-color: var(--fill-color);\n",
              "    }\n",
              "    60% {\n",
              "      border-color: transparent;\n",
              "      border-right-color: var(--fill-color);\n",
              "    }\n",
              "    80% {\n",
              "      border-color: transparent;\n",
              "      border-right-color: var(--fill-color);\n",
              "      border-bottom-color: var(--fill-color);\n",
              "    }\n",
              "    90% {\n",
              "      border-color: transparent;\n",
              "      border-bottom-color: var(--fill-color);\n",
              "    }\n",
              "  }\n",
              "</style>\n",
              "\n",
              "      <script>\n",
              "        async function quickchart(key) {\n",
              "          const quickchartButtonEl =\n",
              "            document.querySelector('#' + key + ' button');\n",
              "          quickchartButtonEl.disabled = true;  // To prevent multiple clicks.\n",
              "          quickchartButtonEl.classList.add('colab-df-spinner');\n",
              "          try {\n",
              "            const charts = await google.colab.kernel.invokeFunction(\n",
              "                'suggestCharts', [key], {});\n",
              "          } catch (error) {\n",
              "            console.error('Error during call to suggestCharts:', error);\n",
              "          }\n",
              "          quickchartButtonEl.classList.remove('colab-df-spinner');\n",
              "          quickchartButtonEl.classList.add('colab-df-quickchart-complete');\n",
              "        }\n",
              "        (() => {\n",
              "          let quickchartButtonEl =\n",
              "            document.querySelector('#df-b5f51b34-84fd-4655-8132-910f2906552b button');\n",
              "          quickchartButtonEl.style.display =\n",
              "            google.colab.kernel.accessAllowed ? 'block' : 'none';\n",
              "        })();\n",
              "      </script>\n",
              "    </div>\n",
              "\n",
              "    </div>\n",
              "  </div>\n"
            ],
            "application/vnd.google.colaboratory.intrinsic+json": {
              "type": "dataframe",
              "summary": "{\n  \"name\": \"display(subject_df\",\n  \"rows\": 5,\n  \"fields\": [\n    {\n      \"column\": \"eng\",\n      \"properties\": {\n        \"dtype\": \"string\",\n        \"num_unique_values\": 5,\n        \"samples\": [\n          \"Among the following organic acids, the acid present in rancid butter is:\\nA . pyruvic acid\\nB. lactic acid\\nc. butyric acid\\nD. acetic acid\",\n          \"Which of the following statement\\nregarding transformer is incorrect?\\nA. A transformer makes use of Faradays Law.\\nB. The ferromagnetic properties of an iron core is used by it to efficiently raise or lower AC voltage\\nC. It cannot increase power so that if the voltage is raised, the current is proportionally lowered and vice versa.\\nD. The current induced in primary circuit is of same nature as in secondary circuit with differences in amplitude only.\",\n          \"If the area of two similar triangles are equal, then they are\\nA . equilateral\\nB. isosceles\\nc. congruent\\nD. not congruent\"\n        ],\n        \"semantic_type\": \"\",\n        \"description\": \"\"\n      }\n    },\n    {\n      \"column\": \"Subject\",\n      \"properties\": {\n        \"dtype\": \"string\",\n        \"num_unique_values\": 4,\n        \"samples\": [\n          \"Chemistry\",\n          \"Physics\",\n          \"Biology\"\n        ],\n        \"semantic_type\": \"\",\n        \"description\": \"\"\n      }\n    }\n  ]\n}"
            }
          },
          "metadata": {}
        }
      ]
    },
    {
      "cell_type": "code",
      "source": [
        "subject_count = subject_df['Subject'].value_counts()\n",
        "print(subject_count)"
      ],
      "metadata": {
        "colab": {
          "base_uri": "https://localhost:8080/"
        },
        "id": "pTvFuEbYWw54",
        "outputId": "47673e7a-a9f8-4cc0-a8ad-198a5006dac0"
      },
      "execution_count": 4,
      "outputs": [
        {
          "output_type": "stream",
          "name": "stdout",
          "text": [
            "Subject\n",
            "Physics      38438\n",
            "Chemistry    37767\n",
            "Maths        33190\n",
            "Biology      13124\n",
            "Name: count, dtype: int64\n"
          ]
        }
      ]
    },
    {
      "cell_type": "code",
      "source": [
        "#data preprocessing\n",
        "%pip install contractions"
      ],
      "metadata": {
        "colab": {
          "base_uri": "https://localhost:8080/"
        },
        "id": "vq__sSg4Y6By",
        "outputId": "033c5a64-dcf3-44f9-9d4c-092e28f05f0b"
      },
      "execution_count": 5,
      "outputs": [
        {
          "output_type": "stream",
          "name": "stdout",
          "text": [
            "Collecting contractions\n",
            "  Downloading contractions-0.1.73-py2.py3-none-any.whl.metadata (1.2 kB)\n",
            "Collecting textsearch>=0.0.21 (from contractions)\n",
            "  Downloading textsearch-0.0.24-py2.py3-none-any.whl.metadata (1.2 kB)\n",
            "Collecting anyascii (from textsearch>=0.0.21->contractions)\n",
            "  Downloading anyascii-0.3.3-py3-none-any.whl.metadata (1.6 kB)\n",
            "Collecting pyahocorasick (from textsearch>=0.0.21->contractions)\n",
            "  Downloading pyahocorasick-2.2.0-cp311-cp311-manylinux_2_17_x86_64.manylinux2014_x86_64.whl.metadata (13 kB)\n",
            "Downloading contractions-0.1.73-py2.py3-none-any.whl (8.7 kB)\n",
            "Downloading textsearch-0.0.24-py2.py3-none-any.whl (7.6 kB)\n",
            "Downloading anyascii-0.3.3-py3-none-any.whl (345 kB)\n",
            "\u001b[2K   \u001b[90m━━━━━━━━━━━━━━━━━━━━━━━━━━━━━━━━━━━━━━━━\u001b[0m \u001b[32m345.1/345.1 kB\u001b[0m \u001b[31m9.1 MB/s\u001b[0m eta \u001b[36m0:00:00\u001b[0m\n",
            "\u001b[?25hDownloading pyahocorasick-2.2.0-cp311-cp311-manylinux_2_17_x86_64.manylinux2014_x86_64.whl (113 kB)\n",
            "\u001b[2K   \u001b[90m━━━━━━━━━━━━━━━━━━━━━━━━━━━━━━━━━━━━━━━━\u001b[0m \u001b[32m113.9/113.9 kB\u001b[0m \u001b[31m11.3 MB/s\u001b[0m eta \u001b[36m0:00:00\u001b[0m\n",
            "\u001b[?25hInstalling collected packages: pyahocorasick, anyascii, textsearch, contractions\n",
            "Successfully installed anyascii-0.3.3 contractions-0.1.73 pyahocorasick-2.2.0 textsearch-0.0.24\n"
          ]
        }
      ]
    },
    {
      "cell_type": "code",
      "source": [
        "import contractions\n",
        "\n",
        "#Expanding contractions such as I'll to I will etc.\n",
        "def expand_contractions(s):\n",
        "    return contractions.fix(s)"
      ],
      "metadata": {
        "id": "SWU7zQFNadC7"
      },
      "execution_count": 6,
      "outputs": []
    },
    {
      "cell_type": "code",
      "source": [
        "#reducing the size of dataset and extracting physics questions\n",
        "df_physics = subject_df[subject_df['Subject']=='Physics'].sample(n = 1500)\n",
        "balanced_df = pd.concat([df_physics])\n",
        "balanced_df = balanced_df.sample(frac = 1)\n",
        "balanced_df.reset_index(drop=True, inplace=True)\n",
        "subject_df_clean = balanced_df.copy()\n",
        "subject_df_clean.rename(columns = {'eng':'Questions'}, inplace = True)\n",
        "print(subject_df_clean)\n"
      ],
      "metadata": {
        "colab": {
          "base_uri": "https://localhost:8080/"
        },
        "id": "HFFp9ZEpcnk7",
        "outputId": "3e8a4aff-68e1-4dc1-f6d7-138b2c31f8df"
      },
      "execution_count": 7,
      "outputs": [
        {
          "output_type": "stream",
          "name": "stdout",
          "text": [
            "                                              Questions  Subject\n",
            "0     Match the terms in column I with those\\nof col...  Physics\n",
            "1     A metal cylinder of length \\( L \\) is\\nsubject...  Physics\n",
            "2     Fill in the blank.\\nThe reflection of sunlight...  Physics\n",
            "3     The unified atomic mass unit is the\\nstandard ...  Physics\n",
            "4     State whether true or false.\\nThe image formed...  Physics\n",
            "...                                                 ...      ...\n",
            "1495  Which of the following conclusion can be drawn...  Physics\n",
            "1496  A particle is going in a spiral path as\\nshown...  Physics\n",
            "1497  A carbon resistor is shown in the figure.\\nUsi...  Physics\n",
            "1498  Drive an expression for Electric field due to ...  Physics\n",
            "1499  If the angle of dip at a certain place is\\n\\( ...  Physics\n",
            "\n",
            "[1500 rows x 2 columns]\n"
          ]
        }
      ]
    },
    {
      "cell_type": "code",
      "source": [],
      "metadata": {
        "id": "IDTbLUZ84pvD"
      },
      "execution_count": null,
      "outputs": []
    },
    {
      "cell_type": "code",
      "source": [
        "keyword_topic_map = {\n",
        "    # Easy Topics\n",
        "    \"Kinematics\": [\"motion\", \"velocity\", \"displacement\", \"acceleration\", \"graph\", \"uniform\", \"non-uniform\", \"rest\"],\n",
        "    \"Optics\": [\"mirror\", \"lens\", \"refraction\", \"reflection\", \"focal\", \"image\", \"optical\", \"light\"],\n",
        "\n",
        "    #  Medium Topics\n",
        "    \"Mechanics\": [\"force\", \"friction\", \"newton\", \"mass\", \"energy\", \"momentum\", \"projectile\", \"work\", \"power\", \"torque\"],\n",
        "    \"Thermodynamics\": [\"temperature\", \"heat\", \"gas\", \"entropy\", \"internal energy\", \"expansion\", \"laws of thermodynamics\"],\n",
        "\n",
        "    # Hard Topics\n",
        "    \"Electricity\": [\"current\", \"voltage\", \"resistance\", \"ohm\", \"circuit\", \"capacitor\", \"inductor\", \"charge\", \"battery\"],\n",
        "    \"Modern Physics\": [\"quantum\", \"photoelectric\", \"relativity\", \"nuclear\", \"radioactivity\", \"atom\", \"isotope\", \"electron\", \"de broglie\", \"dual nature\", \"planck\", \"wave-particle\", \"bohr\",\"x-rays\", \"gamma\", \"alpha\", \"beta\", \"fission\", \"fusion\", \"mass defect\", \"binding energy\"\n",
        "    ]\n",
        "\n",
        "}\n",
        "\n",
        "def classify_topic(question):\n",
        "    question = question.lower()\n",
        "    for topic, keywords in keyword_topic_map.items():\n",
        "        for kw in keywords:\n",
        "            if kw in question:\n",
        "                return topic\n",
        "    return \"Mixed Questions \"\n",
        "\n",
        "subject_df_clean['topic'] = subject_df_clean['Questions'].apply(classify_topic)\n",
        "\n",
        "#defining difficulty level according to topics\n",
        "difficulty_map = {\n",
        "    \"Kinematics\": \"Easy\",\n",
        "    \"Optics\": \"Easy\",\n",
        "    \"Mechanics\": \"Medium\",\n",
        "    \"Thermodynamics\": \"Medium\",\n",
        "    \"Electricity\": \"Hard\",\n",
        "    \"Modern Physics\": \"Hard\",\n",
        "    \"Mixed Questions\": \"very hard\"\n",
        "}\n",
        "\n",
        "subject_df_clean['Topic_Difficulty'] = subject_df_clean['topic'].map(difficulty_map)\n",
        "print(subject_df_clean['topic'].value_counts())\n"
      ],
      "metadata": {
        "id": "OZ-kl5lPCbSY",
        "colab": {
          "base_uri": "https://localhost:8080/"
        },
        "outputId": "68c11e3c-65fc-4e0b-dd28-411d6061a347"
      },
      "execution_count": 134,
      "outputs": [
        {
          "output_type": "stream",
          "name": "stdout",
          "text": [
            "topic\n",
            "Mixed Questions     353\n",
            "Kinematics          350\n",
            "Mechanics           310\n",
            "Electricity         192\n",
            "Optics              171\n",
            "Thermodynamics       84\n",
            "Modern Physics       40\n",
            "Name: count, dtype: int64\n"
          ]
        }
      ]
    },
    {
      "cell_type": "code",
      "source": [
        "import random\n",
        "\n",
        "# Simulating student data for Physics quiz system\n",
        "subject_df_clean['student_id'] = [random.randint(1001, 1100) for _ in range(len(subject_df_clean))]\n",
        "subject_df_clean['quiz_attempt'] = [random.randint(1, 10) for _ in range(len(subject_df_clean))]\n",
        "subject_df_clean['score'] = [random.randint(20, 100) for _ in range(len(subject_df_clean))]\n",
        "subject_df_clean['time_taken'] = [random.randint(30, 300) for _ in range(len(subject_df_clean))]\n",
        "\n",
        "# Difficulty level based on score\n",
        "subject_df_clean['difficulty'] = subject_df_clean['score'].apply(\n",
        "    lambda s: 'Easy' if s < 40 else ('Medium' if s < 70 else 'Hard')\n",
        ")\n",
        "\n",
        "# Rule-based recommendation of next topic\n",
        "def recommend_next(row):\n",
        "    if row['score'] < 40:\n",
        "        return random.choice(['kinematics','optics']).lower()\n",
        "    elif row['score'] < 60:\n",
        "        return random.choice(['mechanics', 'thermodynamics ']).lower()\n",
        "    elif row['score'] < 80:\n",
        "        return random.choice(['Electricity','modern physics']).lower()\n",
        "    else:\n",
        "        return 'mixed questions'.lower()\n",
        "\n",
        "\n",
        "subject_df_clean['recommended_next_topic'] = subject_df_clean.apply(recommend_next, axis=1)"
      ],
      "metadata": {
        "id": "hPjU1wTWnBhr"
      },
      "execution_count": 118,
      "outputs": []
    },
    {
      "cell_type": "code",
      "source": [
        "import pandas as pd\n",
        "import re\n",
        "\n",
        "\n",
        "# Function to extract question and options from the text\n",
        "def extract_question_data(entry):\n",
        "    if pd.isnull(entry):\n",
        "        return pd.Series([None] * 6)\n",
        "\n",
        "    # Extract question part\n",
        "    question_match = re.split(r'\\n[A-Da-d][\\.\\)]', entry, maxsplit=1)\n",
        "    question = question_match[0].strip() if question_match else None\n",
        "\n",
        "    # Extract options using regex\n",
        "    options = re.findall(r'([A-Da-d])[\\.\\)]\\s*(.*?)(?=\\n[A-Da-d][\\.\\)]|\\Z)', entry, re.DOTALL)\n",
        "\n",
        "    # Must have exactly 4 options\n",
        "    if len(options) != 4:\n",
        "        return pd.Series([None] * 6)\n",
        "\n",
        "    # Extract option texts only\n",
        "    extracted_options = [opt[1].strip() for opt in options]\n",
        "\n",
        "    # Check if any option is empty\n",
        "    if any(opt == '' or pd.isnull(opt) for opt in extracted_options):\n",
        "        return pd.Series([None] * 6)\n",
        "\n",
        "    return pd.Series([\n",
        "        question,\n",
        "        extracted_options[0],\n",
        "        extracted_options[1],\n",
        "        extracted_options[2],\n",
        "        extracted_options[3],\n",
        "        None  # Placeholder for correct answer\n",
        "    ])\n",
        "\n",
        "# Apply extraction\n",
        "subject_df_clean[['question', 'option_1', 'option_2', 'option_3', 'option_4', 'correct_answer']] = subject_df_clean['Questions'].apply(extract_question_data)\n",
        "\n",
        "# Drop rows where any of the options or question is missing\n",
        "df_filtered = subject_df_clean.dropna(subset=['question', 'option_1', 'option_2', 'option_3', 'option_4'])\n",
        "\n",
        "# Optional: Group by topic\n",
        "grouped = df_filtered.groupby('topic')\n",
        "\n",
        "# Save cleaned and filtered data\n",
        "df_filtered.to_csv('structured_physics_quiz.csv', index=False)\n",
        "\n",
        "# Display result\n",
        "print(df_filtered[['question', 'option_1', 'option_2', 'option_3', 'option_4', 'correct_answer', 'topic']].head())\n"
      ],
      "metadata": {
        "colab": {
          "base_uri": "https://localhost:8080/"
        },
        "id": "P2NQNrHW-WQM",
        "outputId": "0959cfdd-829e-4e83-f746-86755dd85c11"
      },
      "execution_count": 121,
      "outputs": [
        {
          "output_type": "stream",
          "name": "stdout",
          "text": [
            "                                            question  \\\n",
            "0  Match the terms in column I with those\\nof col...   \n",
            "5  In the series \\( L C R \\) circuit as shown in\\...   \n",
            "6  A converging lens of focal length \\( f_{1} \\) ...   \n",
            "7  Assertion: Specific heat of a body is\\nalways ...   \n",
            "8        Which of the following statements is\\ntrue?   \n",
            "\n",
            "                                            option_1  \\\n",
            "0  Chemical effect } \\\\ \\text { ii. Relay } & \\te...   \n",
            "5                    \\( V=100 \\) volt, \\( I=2 \\) amp   \n",
            "6  The diameter of incident and emergent beam is ...   \n",
            "7  Both assertion and reason are correct and reas...   \n",
            "8  The image formed by a pinhole camera is invert...   \n",
            "\n",
            "                                            option_2  \\\n",
            "0                             i-B, ii-A, iii-C, iv-D   \n",
            "5                    \\( V=100 \\) volt, \\( I=5 \\) amp   \n",
            "6                  The distance d can be \\( f_{1} \\)   \n",
            "7  Both assertion and reason are correct, but rea...   \n",
            "8  Light does not change its direction on reflect...   \n",
            "\n",
            "                                            option_3  \\\n",
            "0                             i-D, ii-C, iii-B, iv-A   \n",
            "5                   \\( V=1000 \\) volt, \\( I=2 \\) amp   \n",
            "6                  The distance d can be \\( f_{2} \\)   \n",
            "7       Assertion is correct but reason is incorrect   \n",
            "8  As we move the object away from the light sour...   \n",
            "\n",
            "                                            option_4 correct_answer  \\\n",
            "0                             i-D, ii-B, iii-C, iv-D           None   \n",
            "5                    \\( V=300 \\) volt, \\( I=1 \\) amp           None   \n",
            "6          The distance d can be \\( f_{1}-2 f_{2} \\)           None   \n",
            "7  Assertion is incorrect but Reason is correct\\n...           None   \n",
            "8  Reflection is possible only from polished surf...           None   \n",
            "\n",
            "            topic  \n",
            "0  Thermodynamics  \n",
            "5     Electricity  \n",
            "6          Optics  \n",
            "7       Mechanics  \n",
            "8          Optics  \n"
          ]
        }
      ]
    },
    {
      "cell_type": "code",
      "source": [
        "print(df_filtered['topic'].value_counts())"
      ],
      "metadata": {
        "colab": {
          "base_uri": "https://localhost:8080/"
        },
        "id": "UFhAMzdpBqa2",
        "outputId": "b42107d9-bf7d-41d7-ed2d-fde51ff0167e"
      },
      "execution_count": 122,
      "outputs": [
        {
          "output_type": "stream",
          "name": "stdout",
          "text": [
            "topic\n",
            "Mixed Questions     105\n",
            "Kinematics          103\n",
            "Mechanics            98\n",
            "Optics               62\n",
            "Electricity          50\n",
            "Thermodynamics       35\n",
            "Modern Physics       18\n",
            "Name: count, dtype: int64\n"
          ]
        }
      ]
    },
    {
      "cell_type": "code",
      "source": [
        "# testing the model\n",
        "import pandas as pd\n",
        "sample_input = [[2, 1, 65, 3, 120]]  # topic_enc, diff_enc, score, quiz_attempt, time_taken - Note: topic_enc is not used for prediction\n",
        "input_df = pd.DataFrame(sample_input, columns=['topic_enc', 'diff_enc', 'score', 'quiz_attempt', 'time_taken'])\n",
        "# Select only the features used during training for prediction\n",
        "predicted_topic_enc = model.predict(input_df[['diff_enc', 'score', 'quiz_attempt', 'time_taken']])[0]\n",
        "predicted_topic = le_next.inverse_transform([predicted_topic_enc])[0]\n",
        "print(\"Predicted Recommended Topic:\", predicted_topic)"
      ],
      "metadata": {
        "colab": {
          "base_uri": "https://localhost:8080/"
        },
        "id": "aNAEs_V1-PQc",
        "outputId": "d1457625-b859-4f3e-c8a0-f0bb508e7f6b"
      },
      "execution_count": 124,
      "outputs": [
        {
          "output_type": "stream",
          "name": "stdout",
          "text": [
            "Predicted Recommended Topic: kinematics\n"
          ]
        }
      ]
    },
    {
      "cell_type": "code",
      "source": [
        "# AI Engine - Clean & Train Model\n",
        "\n",
        "import numpy as np\n",
        "from sklearn.preprocessing import LabelEncoder\n",
        "from sklearn.model_selection import train_test_split\n",
        "from sklearn.ensemble import RandomForestClassifier\n",
        "from sklearn.metrics import accuracy_score, classification_report\n",
        "\n",
        "# Step 1: Clean the Data\n",
        "# Drop rows with any missing required values\n",
        "df_filtered = subject_df_clean.dropna(subset=[\n",
        "    'question', 'option_1', 'option_2', 'option_3', 'option_4',\n",
        "    'topic', 'difficulty', 'recommended_next_topic',\n",
        "    'score', 'quiz_attempt', 'time_taken'\n",
        "]).copy()\n",
        "\n",
        "# Step 2: Label Encoding\n",
        "le_topic = LabelEncoder()\n",
        "le_diff = LabelEncoder()\n",
        "le_next = LabelEncoder()\n",
        "\n",
        "df_filtered['topic_enc'] = le_topic.fit_transform(df_filtered['topic'])\n",
        "df_filtered['diff_enc'] = le_diff.fit_transform(df_filtered['difficulty'])\n",
        "df_filtered['target_enc'] = le_next.fit_transform(df_filtered['recommended_next_topic'])\n",
        "\n",
        "# Step 3: Define Features & Target\n",
        "X = df_filtered[[ 'diff_enc', 'score', 'quiz_attempt', 'time_taken']]\n",
        "y = df_filtered['target_enc']\n",
        "\n",
        "# Step 4: Train-Test Split\n",
        "X_train, X_test, y_train, y_test = train_test_split(X, y, test_size=0.2, random_state=42)\n",
        "\n",
        "# Step 5: Train Model\n",
        "model = RandomForestClassifier(random_state=42)\n",
        "model.fit(X_train, y_train)\n",
        "\n",
        "# Step 6: Evaluate Model\n",
        "y_pred = model.predict(X_test)\n",
        "\n",
        "print(\"Accuracy:\", accuracy_score(y_test, y_pred))\n",
        "\n",
        "# Safe inverse_transform for only used labels\n",
        "unique_labels = np.unique(np.concatenate((y_test, y_pred)))\n",
        "target_names_subset = le_next.inverse_transform(unique_labels)\n",
        "\n",
        "print(\"\\nClassification Report:\\n\", classification_report(\n",
        "    y_test, y_pred,\n",
        "    labels=unique_labels,\n",
        "    target_names=target_names_subset\n",
        "))\n"
      ],
      "metadata": {
        "colab": {
          "base_uri": "https://localhost:8080/"
        },
        "id": "YQiWcaRpIqT3",
        "outputId": "9984bd3b-762f-424e-c09a-4c7787c87761"
      },
      "execution_count": 125,
      "outputs": [
        {
          "output_type": "stream",
          "name": "stdout",
          "text": [
            "Accuracy: 0.631578947368421\n",
            "\n",
            "Classification Report:\n",
            "                  precision    recall  f1-score   support\n",
            "\n",
            "    electricity       0.55      0.60      0.57        10\n",
            "     kinematics       0.60      0.71      0.65        17\n",
            "      mechanics       0.45      0.42      0.43        12\n",
            "mixed questions       1.00      1.00      1.00        22\n",
            " modern physics       0.50      0.44      0.47         9\n",
            "         optics       0.38      0.27      0.32        11\n",
            "thermodynamics        0.53      0.57      0.55        14\n",
            "\n",
            "       accuracy                           0.63        95\n",
            "      macro avg       0.57      0.57      0.57        95\n",
            "   weighted avg       0.62      0.63      0.63        95\n",
            "\n"
          ]
        }
      ]
    },
    {
      "cell_type": "code",
      "source": [
        "import pandas as pd\n",
        "all_topics = df_filtered['topic'].unique()\n",
        "all_topics_enc = le_topic.transform(all_topics)\n",
        "difficulty_levels = ['Easy', 'Medium', 'Hard']\n",
        "difficulty_enc = le_diff.transform(difficulty_levels)\n",
        "test_data = []\n",
        "for topic_enc, topic_name in zip(all_topics_enc, all_topics):\n",
        "    for diff_name, diff_enc_val in zip(difficulty_levels, difficulty_enc):\n",
        "        test_data.append({\n",
        "            'topic': topic_name,\n",
        "            'topic_enc': topic_enc,\n",
        "            'diff_enc': diff_enc_val,\n",
        "            'score': 60 if diff_name == 'Medium' else (35 if diff_name == 'Easy' else 85),\n",
        "            'quiz_attempt': 2,\n",
        "            'time_taken': 100\n",
        "        })\n",
        "test_df = pd.DataFrame(test_data)\n",
        "X_test = test_df[[ 'diff_enc', 'score', 'quiz_attempt', 'time_taken']]\n",
        "test_df['predicted_topic_enc'] = model.predict(X_test)\n",
        "test_df['predicted_recommendation'] = le_next.inverse_transform(test_df['predicted_topic_enc'])\n",
        "result_df = test_df[['topic', 'score', 'diff_enc', 'predicted_recommendation']]\n",
        "print(result_df.to_string(index=False))\n"
      ],
      "metadata": {
        "colab": {
          "base_uri": "https://localhost:8080/"
        },
        "id": "p3wvffFwCs2A",
        "outputId": "a3b1a630-3ba6-4c11-aaa7-870c1e81107d"
      },
      "execution_count": 126,
      "outputs": [
        {
          "output_type": "stream",
          "name": "stdout",
          "text": [
            "           topic  score  diff_enc predicted_recommendation\n",
            "  Thermodynamics     35         0               kinematics\n",
            "  Thermodynamics     60         2           modern physics\n",
            "  Thermodynamics     85         1          mixed questions\n",
            "     Electricity     35         0               kinematics\n",
            "     Electricity     60         2           modern physics\n",
            "     Electricity     85         1          mixed questions\n",
            "          Optics     35         0               kinematics\n",
            "          Optics     60         2           modern physics\n",
            "          Optics     85         1          mixed questions\n",
            "       Mechanics     35         0               kinematics\n",
            "       Mechanics     60         2           modern physics\n",
            "       Mechanics     85         1          mixed questions\n",
            "      Kinematics     35         0               kinematics\n",
            "      Kinematics     60         2           modern physics\n",
            "      Kinematics     85         1          mixed questions\n",
            "Mixed Questions      35         0               kinematics\n",
            "Mixed Questions      60         2           modern physics\n",
            "Mixed Questions      85         1          mixed questions\n",
            "  Modern Physics     35         0               kinematics\n",
            "  Modern Physics     60         2           modern physics\n",
            "  Modern Physics     85         1          mixed questions\n"
          ]
        }
      ]
    },
    {
      "cell_type": "code",
      "source": [
        "# creating quizes per topic\n",
        "df_filtered['quiz_id'] = ['QZ' + str(i).zfill(4) for i in range(len(df_filtered))]\n",
        "df_filtered['quiz_question'] = df_filtered['Questions']\n",
        "\n",
        "quiz_bank = {\n",
        "    topic: group[['quiz_id', 'quiz_question']].sample(min(10, len(group)))\n",
        "    for topic, group in df_filtered.groupby('topic')\n",
        "}"
      ],
      "metadata": {
        "id": "VI_a-nBAHoMu"
      },
      "execution_count": 127,
      "outputs": []
    },
    {
      "cell_type": "code",
      "source": [
        "def recommend_next_quiz_set(row):\n",
        "    current_topic = row['topic']\n",
        "    current_diff = row['difficulty']\n",
        "    score = row['score']\n",
        "\n",
        "    # Decide next difficulty level\n",
        "    if score < 40:\n",
        "        next_diff = 'easy'\n",
        "    elif score <= 60:\n",
        "        next_diff = current_diff\n",
        "    else:\n",
        "        next_diff = 'hard'\n",
        "\n",
        "    # Get topics at the next difficulty (excluding current topic)\n",
        "    possible_topics = df_filtered[\n",
        "        (df_filtered['difficulty'] == next_diff) &\n",
        "        (df_filtered['topic'] != current_topic)\n",
        "    ]['topic'].unique()\n",
        "\n",
        "    # If none found (edge case), fallback to current topic\n",
        "    if len(possible_topics) > 0:\n",
        "        predicted_topic = np.random.choice(possible_topics)\n",
        "    else:\n",
        "        predicted_topic = current_topic\n",
        "\n",
        "    # Message logic\n",
        "    if score < 40:\n",
        "        message = f\"😐 You need more practice. Let's go back to an easier topic: {predicted_topic}.\"\n",
        "    elif score <= 60:\n",
        "        message = f\"🙂 You're doing okay. Let's try another medium topic: {predicted_topic}.\"\n",
        "    elif score <= 80:\n",
        "        message = f\"🔥 Great job! You're ready for a harder topic: {predicted_topic}.\"\n",
        "    else:\n",
        "        message = f\"🎉 Well done! You're ready for a mixed tquestions practice : {predicted_topic}.\"\n",
        "\n",
        "    # Get quiz set\n",
        "    quiz_set = quiz_bank.get(predicted_topic, pd.DataFrame())\n",
        "\n",
        "    return {\n",
        "        \"Next Topic\": predicted_topic,\n",
        "        \"Message\": message,\n",
        "        \"Quiz Set\": quiz_set\n",
        "    }\n"
      ],
      "metadata": {
        "id": "_k5TykoXVoxc"
      },
      "execution_count": 129,
      "outputs": []
    },
    {
      "cell_type": "code",
      "source": [
        "def recommend_next_quiz_set(row):\n",
        "    import numpy as np\n",
        "    import pandas as pd\n",
        "\n",
        "    current_topic = row['topic'].strip().lower()\n",
        "    current_diff = row['difficulty'].strip().lower()\n",
        "    score = row['score']\n",
        "\n",
        "    # Define difficulty-topic map\n",
        "    difficulty_topic_map = {\n",
        "        'easy': ['kinematics', 'optics'],\n",
        "        'medium': ['mechanics', 'thermodynamics'],\n",
        "        'hard': ['electricity', 'modern physics']\n",
        "    }\n",
        "\n",
        "    # Difficulty levels in order\n",
        "    levels = ['easy', 'medium', 'hard']\n",
        "\n",
        "    def get_difficulty_from_topic(topic):\n",
        "        for level, topics in difficulty_topic_map.items():\n",
        "            if topic in topics:\n",
        "                return level\n",
        "        return None\n",
        "\n",
        "    # Decide next difficulty level based on score\n",
        "    if score < 40:\n",
        "        next_diff = levels[max(0, levels.index(current_diff) - 1)]\n",
        "    elif 40 <= score <= 70:\n",
        "        next_diff = current_diff\n",
        "    elif score <= 90:\n",
        "        next_diff = levels[min(len(levels) - 1, levels.index(current_diff) + 1)]\n",
        "    else:\n",
        "        predicted_topic = 'mixed questions'\n",
        "        message = f\"🎉 Excellent work! You're ready for a mixed practice quiz!\"\n",
        "        quiz_set = quiz_bank.get(predicted_topic, pd.DataFrame())\n",
        "        return {\n",
        "            \"Next Topic\": predicted_topic,\n",
        "            \"Message\": message,\n",
        "            \"Quiz Set\": quiz_set\n",
        "        }\n",
        "\n",
        "    # Get possible topics in the new difficulty level\n",
        "    possible_topics = [\n",
        "        topic for topic in difficulty_topic_map[next_diff]\n",
        "        if topic != current_topic\n",
        "    ]\n",
        "\n",
        "    if possible_topics:\n",
        "        predicted_topic = np.random.choice(possible_topics)\n",
        "    else:\n",
        "        predicted_topic = current_topic  # fallback\n",
        "\n",
        "    # Feedback message\n",
        "    if score < 40:\n",
        "        message = f\"😐 You need more practice. Let's try an easier topic: {predicted_topic.title()}.\"\n",
        "    elif score <= 70:\n",
        "        message = f\"🙂 You're doing okay. Try another topic at the same level: {predicted_topic.title()}.\"\n",
        "    else:\n",
        "        message = f\"🔥 Great job! Let's move to a harder topic: {predicted_topic.title()}.\"\n",
        "\n",
        "    # Get quiz set\n",
        "    quiz_set = quiz_bank.get(predicted_topic, pd.DataFrame())\n",
        "\n",
        "    return {\n",
        "        \"Next Topic\": predicted_topic,\n",
        "        \"Message\": message,\n",
        "        \"Quiz Set\": quiz_set\n",
        "    }\n"
      ],
      "metadata": {
        "id": "O5edTHTvfAqp"
      },
      "execution_count": 135,
      "outputs": []
    },
    {
      "cell_type": "code",
      "source": [
        "student = df_filtered.iloc[0]\n",
        "result = recommend_next_quiz_set(student)\n",
        "\n",
        "print(f\"Previous topic: {student['topic']}\")\n",
        "print(result['Message'])\n",
        "print(f\"\\n📘 Recommended Quiz on: {result['Next Topic']}\")\n"
      ],
      "metadata": {
        "colab": {
          "base_uri": "https://localhost:8080/"
        },
        "id": "Xs1Q_wuhV5X5",
        "outputId": "3cca76ab-e380-4e62-a22d-bd8bd31f63c0"
      },
      "execution_count": 138,
      "outputs": [
        {
          "output_type": "stream",
          "name": "stdout",
          "text": [
            "Previous topic: Thermodynamics\n",
            "🙂 You're doing okay. Try another topic at the same level: Mechanics.\n",
            "\n",
            "📘 Recommended Quiz on: mechanics\n"
          ]
        }
      ]
    },
    {
      "cell_type": "code",
      "source": [
        "#evaluating the model\n",
        "from sklearn.metrics import classification_report, confusion_matrix, accuracy_score\n",
        "\n",
        "# Ensure X_test and y_test from train_test_split are used\n",
        "# These variables are defined in cell BOEUjYFgxgd-\n",
        "y_pred = model.predict(X_test)\n",
        "print(\"Accuracy:\", accuracy_score(y_test, y_pred))\n",
        "print(\"Confusion Matrix:\\n\", confusion_matrix(y_test, y_pred))\n",
        "print(\"Classification Report:\\n\", classification_report(y_test, y_pred))"
      ],
      "metadata": {
        "colab": {
          "base_uri": "https://localhost:8080/"
        },
        "id": "EDXnuVedM6gT",
        "outputId": "4e0eb78b-019f-4165-b0f4-1672ab95d870"
      },
      "execution_count": 68,
      "outputs": [
        {
          "output_type": "stream",
          "name": "stdout",
          "text": [
            "Accuracy: 0.5263157894736842\n",
            "Confusion Matrix:\n",
            " [[13  0  3  6  0  0]\n",
            " [ 0 13  0  0  0  8]\n",
            " [ 5  0  8  4  0  0]\n",
            " [ 4  0  3  4  0  0]\n",
            " [ 0  0  0  0  3  0]\n",
            " [ 0 12  0  0  0  9]]\n",
            "Classification Report:\n",
            "               precision    recall  f1-score   support\n",
            "\n",
            "           0       0.59      0.59      0.59        22\n",
            "           1       0.52      0.62      0.57        21\n",
            "           2       0.57      0.47      0.52        17\n",
            "           4       0.29      0.36      0.32        11\n",
            "           5       1.00      1.00      1.00         3\n",
            "           6       0.53      0.43      0.47        21\n",
            "\n",
            "    accuracy                           0.53        95\n",
            "   macro avg       0.58      0.58      0.58        95\n",
            "weighted avg       0.54      0.53      0.53        95\n",
            "\n"
          ]
        }
      ]
    },
    {
      "cell_type": "code",
      "source": [
        "for i in range(10):\n",
        "    student = df_filtered.iloc[i]\n",
        "    result = recommend_next_quiz_set(student)\n",
        "    print(f\"\\nStudent {student['student_id']}: {result['Message']}\")\n",
        "    print(f\"Recommended Topic: {result['Next Topic']}\")\n"
      ],
      "metadata": {
        "colab": {
          "base_uri": "https://localhost:8080/"
        },
        "id": "QEl4WPpfRPjh",
        "outputId": "11d19def-7a99-41c2-d4ab-867c4384bce1"
      },
      "execution_count": 140,
      "outputs": [
        {
          "output_type": "stream",
          "name": "stdout",
          "text": [
            "\n",
            "Student 1099: 🙂 You're doing okay. Try another topic at the same level: Mechanics.\n",
            "Recommended Topic: mechanics\n",
            "\n",
            "Student 1014: 🙂 You're doing okay. Try another topic at the same level: Thermodynamics.\n",
            "Recommended Topic: thermodynamics\n",
            "\n",
            "Student 1065: 🙂 You're doing okay. Try another topic at the same level: Mechanics.\n",
            "Recommended Topic: mechanics\n",
            "\n",
            "Student 1100: 🙂 You're doing okay. Try another topic at the same level: Thermodynamics.\n",
            "Recommended Topic: thermodynamics\n",
            "\n",
            "Student 1008: 🔥 Great job! Let's move to a harder topic: Electricity.\n",
            "Recommended Topic: electricity\n",
            "\n",
            "Student 1060: 😐 You need more practice. Let's try an easier topic: Kinematics.\n",
            "Recommended Topic: kinematics\n",
            "\n",
            "Student 1080: 🙂 You're doing okay. Try another topic at the same level: Thermodynamics.\n",
            "Recommended Topic: thermodynamics\n",
            "\n",
            "Student 1018: 😐 You need more practice. Let's try an easier topic: Kinematics.\n",
            "Recommended Topic: kinematics\n",
            "\n",
            "Student 1044: 😐 You need more practice. Let's try an easier topic: Optics.\n",
            "Recommended Topic: optics\n",
            "\n",
            "Student 1005: 🙂 You're doing okay. Try another topic at the same level: Thermodynamics.\n",
            "Recommended Topic: thermodynamics\n"
          ]
        }
      ]
    },
    {
      "cell_type": "code",
      "source": [
        "import joblib\n",
        "\n",
        "# Save the trained model to a file\n",
        "joblib.dump(model, \"quiz_recommender_model.pkl\")\n",
        "print(\"✅ Model saved as quiz_recommender_model.pkl\")\n",
        "from google.colab import files\n",
        "files.download(\"quiz_recommender_model.pkl\")\n"
      ],
      "metadata": {
        "colab": {
          "base_uri": "https://localhost:8080/",
          "height": 34
        },
        "id": "pKdWb1YWKfcB",
        "outputId": "2a5be56e-86f2-4cd5-a630-9c10b9d163ab"
      },
      "execution_count": 141,
      "outputs": [
        {
          "output_type": "stream",
          "name": "stdout",
          "text": [
            "✅ Model saved as quiz_recommender_model.pkl\n"
          ]
        },
        {
          "output_type": "display_data",
          "data": {
            "text/plain": [
              "<IPython.core.display.Javascript object>"
            ],
            "application/javascript": [
              "\n",
              "    async function download(id, filename, size) {\n",
              "      if (!google.colab.kernel.accessAllowed) {\n",
              "        return;\n",
              "      }\n",
              "      const div = document.createElement('div');\n",
              "      const label = document.createElement('label');\n",
              "      label.textContent = `Downloading \"${filename}\": `;\n",
              "      div.appendChild(label);\n",
              "      const progress = document.createElement('progress');\n",
              "      progress.max = size;\n",
              "      div.appendChild(progress);\n",
              "      document.body.appendChild(div);\n",
              "\n",
              "      const buffers = [];\n",
              "      let downloaded = 0;\n",
              "\n",
              "      const channel = await google.colab.kernel.comms.open(id);\n",
              "      // Send a message to notify the kernel that we're ready.\n",
              "      channel.send({})\n",
              "\n",
              "      for await (const message of channel.messages) {\n",
              "        // Send a message to notify the kernel that we're ready.\n",
              "        channel.send({})\n",
              "        if (message.buffers) {\n",
              "          for (const buffer of message.buffers) {\n",
              "            buffers.push(buffer);\n",
              "            downloaded += buffer.byteLength;\n",
              "            progress.value = downloaded;\n",
              "          }\n",
              "        }\n",
              "      }\n",
              "      const blob = new Blob(buffers, {type: 'application/binary'});\n",
              "      const a = document.createElement('a');\n",
              "      a.href = window.URL.createObjectURL(blob);\n",
              "      a.download = filename;\n",
              "      div.appendChild(a);\n",
              "      a.click();\n",
              "      div.remove();\n",
              "    }\n",
              "  "
            ]
          },
          "metadata": {}
        },
        {
          "output_type": "display_data",
          "data": {
            "text/plain": [
              "<IPython.core.display.Javascript object>"
            ],
            "application/javascript": [
              "download(\"download_bfa7a530-21d7-4346-9dbe-49521d1b448b\", \"quiz_recommender_model.pkl\", 2082657)"
            ]
          },
          "metadata": {}
        }
      ]
    },
    {
      "cell_type": "code",
      "source": [
        "# For input topics\n",
        "print(\"Topic Distribution:\\n\", df_filtered['topic'].value_counts())\n",
        "\n",
        "# For target labels (if predicting next topic)\n",
        "print(\"\\nRecommended Next Topic Distribution:\\n\", df_filtered['recommended_next_topic'].value_counts())\n"
      ],
      "metadata": {
        "colab": {
          "base_uri": "https://localhost:8080/"
        },
        "id": "YN1gAvLZyJB5",
        "outputId": "4d666ecf-be7c-42f0-81c4-67b0233b2300"
      },
      "execution_count": 144,
      "outputs": [
        {
          "output_type": "stream",
          "name": "stdout",
          "text": [
            "Topic Distribution:\n",
            " topic\n",
            "Mixed Questions     105\n",
            "Kinematics          103\n",
            "Mechanics            98\n",
            "Optics               62\n",
            "Electricity          50\n",
            "Thermodynamics       35\n",
            "Modern Physics       18\n",
            "Name: count, dtype: int64\n",
            "\n",
            "Recommended Next Topic Distribution:\n",
            " recommended_next_topic\n",
            "mixed questions    120\n",
            "kinematics          77\n",
            "electricity         60\n",
            "thermodynamics      58\n",
            "mechanics           57\n",
            "modern physics      54\n",
            "optics              45\n",
            "Name: count, dtype: int64\n"
          ]
        }
      ]
    },
    {
      "cell_type": "code",
      "source": [
        "grouped = subject_df_clean.groupby('recommended_next_topic').agg({\n",
        "    'score': ['mean', 'median'],\n",
        "    'time_taken': ['mean', 'median'],\n",
        "    'quiz_attempt': 'mean'\n",
        "})\n",
        "print(grouped)\n"
      ],
      "metadata": {
        "colab": {
          "base_uri": "https://localhost:8080/"
        },
        "id": "yV-EBjMRzgkU",
        "outputId": "6b4010a1-8b98-4a6f-f7bb-19608a50eab4"
      },
      "execution_count": 145,
      "outputs": [
        {
          "output_type": "stream",
          "name": "stdout",
          "text": [
            "                            score         time_taken        quiz_attempt\n",
            "                             mean median        mean median         mean\n",
            "recommended_next_topic                                                  \n",
            "electricity             69.594872   69.0  157.943590  157.0     5.435897\n",
            "kinematics              28.853081   29.0  164.289100  163.0     5.327014\n",
            "mechanics               49.921053   50.0  160.663158  151.0     5.589474\n",
            "mixed questions         90.094629   90.0  171.723785  178.0     5.265985\n",
            "modern physics          69.423729   69.0  172.440678  167.0     5.779661\n",
            "optics                  29.298780   29.0  167.152439  168.0     5.725610\n",
            "thermodynamics          49.866279   50.5  160.593023  159.5     5.372093\n"
          ]
        }
      ]
    },
    {
      "cell_type": "code",
      "source": [
        "from collections import Counter\n",
        "from sklearn.utils import resample\n",
        "\n",
        "class_counts = Counter(df_filtered['recommended_next_topic'])\n",
        "print(\"Class counts:\", class_counts)\n"
      ],
      "metadata": {
        "colab": {
          "base_uri": "https://localhost:8080/"
        },
        "id": "ZlmiR6cuzwPp",
        "outputId": "4a92b7e4-f1ed-48b9-f0b5-4c51500b2e0d"
      },
      "execution_count": 151,
      "outputs": [
        {
          "output_type": "stream",
          "name": "stdout",
          "text": [
            "Class counts: Counter({'mixed questions': 120, 'kinematics': 77, 'electricity': 60, 'thermodynamics ': 58, 'mechanics': 57, 'modern physics': 54, 'optics': 45})\n"
          ]
        }
      ]
    },
    {
      "cell_type": "code",
      "source": [
        "import pandas as pd\n",
        "import os\n",
        "\n",
        "# Folder where you want to save the quizzes\n",
        "output_folder = \"topic_quizzes\"\n",
        "os.makedirs(output_folder, exist_ok=True)\n",
        "\n",
        "# Group by topic and create topic-wise quizzes of 20–30 questions\n",
        "topic_groups = df_filtered.groupby(\"topic\")\n",
        "\n",
        "for topic, group in topic_groups:\n",
        "    quiz = group.sample(n=min(30, len(group)))  # take 30 or fewer questions\n",
        "    filename = f\"{topic.replace(' ', '_')}_quiz.csv\"\n",
        "    filepath = os.path.join(output_folder, filename)\n",
        "    quiz.to_csv(filepath, index=False)\n",
        "    print(f\"✅ Saved quiz for topic: {topic} → {filepath}\")\n"
      ],
      "metadata": {
        "colab": {
          "base_uri": "https://localhost:8080/"
        },
        "id": "JaTWcLB4hUsQ",
        "outputId": "63903914-26ad-4fb6-b636-77e35b8e86fe"
      },
      "execution_count": 152,
      "outputs": [
        {
          "output_type": "stream",
          "name": "stdout",
          "text": [
            "✅ Saved quiz for topic: Electricity → topic_quizzes/Electricity_quiz.csv\n",
            "✅ Saved quiz for topic: Kinematics → topic_quizzes/Kinematics_quiz.csv\n",
            "✅ Saved quiz for topic: Mechanics → topic_quizzes/Mechanics_quiz.csv\n",
            "✅ Saved quiz for topic: Mixed Questions  → topic_quizzes/Mixed_Questions__quiz.csv\n",
            "✅ Saved quiz for topic: Modern Physics → topic_quizzes/Modern_Physics_quiz.csv\n",
            "✅ Saved quiz for topic: Optics → topic_quizzes/Optics_quiz.csv\n",
            "✅ Saved quiz for topic: Thermodynamics → topic_quizzes/Thermodynamics_quiz.csv\n"
          ]
        }
      ]
    }
  ]
}