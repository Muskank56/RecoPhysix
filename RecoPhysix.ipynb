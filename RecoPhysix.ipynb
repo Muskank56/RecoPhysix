{
  "nbformat": 4,
  "nbformat_minor": 0,
  "metadata": {
    "colab": {
      "provenance": []
    },
    "kernelspec": {
      "name": "python3",
      "display_name": "Python 3"
    },
    "language_info": {
      "name": "python"
    }
  },
  "cells": [
    {
      "cell_type": "code",
      "execution_count": 4,
      "metadata": {
        "colab": {
          "base_uri": "https://localhost:8080/",
          "height": 206
        },
        "id": "HNl6fujnNhpY",
        "outputId": "90ca69ef-2315-4e3a-a8dc-2c8d7a92674b"
      },
      "outputs": [
        {
          "output_type": "display_data",
          "data": {
            "text/plain": [
              "                                                 eng    Subject\n",
              "0  An anti-forest measure is\\nA. Afforestation\\nB...    Biology\n",
              "1  Among the following organic acids, the acid pr...  Chemistry\n",
              "2  If the area of two similar triangles are equal...      Maths\n",
              "3  In recent year, there has been a growing\\nconc...    Biology\n",
              "4  Which of the following statement\\nregarding tr...    Physics"
            ],
            "text/html": [
              "\n",
              "  <div id=\"df-f0046fb7-9074-4a04-b4c7-8ca02880cfe1\" class=\"colab-df-container\">\n",
              "    <div>\n",
              "<style scoped>\n",
              "    .dataframe tbody tr th:only-of-type {\n",
              "        vertical-align: middle;\n",
              "    }\n",
              "\n",
              "    .dataframe tbody tr th {\n",
              "        vertical-align: top;\n",
              "    }\n",
              "\n",
              "    .dataframe thead th {\n",
              "        text-align: right;\n",
              "    }\n",
              "</style>\n",
              "<table border=\"1\" class=\"dataframe\">\n",
              "  <thead>\n",
              "    <tr style=\"text-align: right;\">\n",
              "      <th></th>\n",
              "      <th>eng</th>\n",
              "      <th>Subject</th>\n",
              "    </tr>\n",
              "  </thead>\n",
              "  <tbody>\n",
              "    <tr>\n",
              "      <th>0</th>\n",
              "      <td>An anti-forest measure is\\nA. Afforestation\\nB...</td>\n",
              "      <td>Biology</td>\n",
              "    </tr>\n",
              "    <tr>\n",
              "      <th>1</th>\n",
              "      <td>Among the following organic acids, the acid pr...</td>\n",
              "      <td>Chemistry</td>\n",
              "    </tr>\n",
              "    <tr>\n",
              "      <th>2</th>\n",
              "      <td>If the area of two similar triangles are equal...</td>\n",
              "      <td>Maths</td>\n",
              "    </tr>\n",
              "    <tr>\n",
              "      <th>3</th>\n",
              "      <td>In recent year, there has been a growing\\nconc...</td>\n",
              "      <td>Biology</td>\n",
              "    </tr>\n",
              "    <tr>\n",
              "      <th>4</th>\n",
              "      <td>Which of the following statement\\nregarding tr...</td>\n",
              "      <td>Physics</td>\n",
              "    </tr>\n",
              "  </tbody>\n",
              "</table>\n",
              "</div>\n",
              "    <div class=\"colab-df-buttons\">\n",
              "\n",
              "  <div class=\"colab-df-container\">\n",
              "    <button class=\"colab-df-convert\" onclick=\"convertToInteractive('df-f0046fb7-9074-4a04-b4c7-8ca02880cfe1')\"\n",
              "            title=\"Convert this dataframe to an interactive table.\"\n",
              "            style=\"display:none;\">\n",
              "\n",
              "  <svg xmlns=\"http://www.w3.org/2000/svg\" height=\"24px\" viewBox=\"0 -960 960 960\">\n",
              "    <path d=\"M120-120v-720h720v720H120Zm60-500h600v-160H180v160Zm220 220h160v-160H400v160Zm0 220h160v-160H400v160ZM180-400h160v-160H180v160Zm440 0h160v-160H620v160ZM180-180h160v-160H180v160Zm440 0h160v-160H620v160Z\"/>\n",
              "  </svg>\n",
              "    </button>\n",
              "\n",
              "  <style>\n",
              "    .colab-df-container {\n",
              "      display:flex;\n",
              "      gap: 12px;\n",
              "    }\n",
              "\n",
              "    .colab-df-convert {\n",
              "      background-color: #E8F0FE;\n",
              "      border: none;\n",
              "      border-radius: 50%;\n",
              "      cursor: pointer;\n",
              "      display: none;\n",
              "      fill: #1967D2;\n",
              "      height: 32px;\n",
              "      padding: 0 0 0 0;\n",
              "      width: 32px;\n",
              "    }\n",
              "\n",
              "    .colab-df-convert:hover {\n",
              "      background-color: #E2EBFA;\n",
              "      box-shadow: 0px 1px 2px rgba(60, 64, 67, 0.3), 0px 1px 3px 1px rgba(60, 64, 67, 0.15);\n",
              "      fill: #174EA6;\n",
              "    }\n",
              "\n",
              "    .colab-df-buttons div {\n",
              "      margin-bottom: 4px;\n",
              "    }\n",
              "\n",
              "    [theme=dark] .colab-df-convert {\n",
              "      background-color: #3B4455;\n",
              "      fill: #D2E3FC;\n",
              "    }\n",
              "\n",
              "    [theme=dark] .colab-df-convert:hover {\n",
              "      background-color: #434B5C;\n",
              "      box-shadow: 0px 1px 3px 1px rgba(0, 0, 0, 0.15);\n",
              "      filter: drop-shadow(0px 1px 2px rgba(0, 0, 0, 0.3));\n",
              "      fill: #FFFFFF;\n",
              "    }\n",
              "  </style>\n",
              "\n",
              "    <script>\n",
              "      const buttonEl =\n",
              "        document.querySelector('#df-f0046fb7-9074-4a04-b4c7-8ca02880cfe1 button.colab-df-convert');\n",
              "      buttonEl.style.display =\n",
              "        google.colab.kernel.accessAllowed ? 'block' : 'none';\n",
              "\n",
              "      async function convertToInteractive(key) {\n",
              "        const element = document.querySelector('#df-f0046fb7-9074-4a04-b4c7-8ca02880cfe1');\n",
              "        const dataTable =\n",
              "          await google.colab.kernel.invokeFunction('convertToInteractive',\n",
              "                                                    [key], {});\n",
              "        if (!dataTable) return;\n",
              "\n",
              "        const docLinkHtml = 'Like what you see? Visit the ' +\n",
              "          '<a target=\"_blank\" href=https://colab.research.google.com/notebooks/data_table.ipynb>data table notebook</a>'\n",
              "          + ' to learn more about interactive tables.';\n",
              "        element.innerHTML = '';\n",
              "        dataTable['output_type'] = 'display_data';\n",
              "        await google.colab.output.renderOutput(dataTable, element);\n",
              "        const docLink = document.createElement('div');\n",
              "        docLink.innerHTML = docLinkHtml;\n",
              "        element.appendChild(docLink);\n",
              "      }\n",
              "    </script>\n",
              "  </div>\n",
              "\n",
              "\n",
              "    <div id=\"df-2041b60d-18d1-4369-8b64-18d062fa61e1\">\n",
              "      <button class=\"colab-df-quickchart\" onclick=\"quickchart('df-2041b60d-18d1-4369-8b64-18d062fa61e1')\"\n",
              "                title=\"Suggest charts\"\n",
              "                style=\"display:none;\">\n",
              "\n",
              "<svg xmlns=\"http://www.w3.org/2000/svg\" height=\"24px\"viewBox=\"0 0 24 24\"\n",
              "     width=\"24px\">\n",
              "    <g>\n",
              "        <path d=\"M19 3H5c-1.1 0-2 .9-2 2v14c0 1.1.9 2 2 2h14c1.1 0 2-.9 2-2V5c0-1.1-.9-2-2-2zM9 17H7v-7h2v7zm4 0h-2V7h2v10zm4 0h-2v-4h2v4z\"/>\n",
              "    </g>\n",
              "</svg>\n",
              "      </button>\n",
              "\n",
              "<style>\n",
              "  .colab-df-quickchart {\n",
              "      --bg-color: #E8F0FE;\n",
              "      --fill-color: #1967D2;\n",
              "      --hover-bg-color: #E2EBFA;\n",
              "      --hover-fill-color: #174EA6;\n",
              "      --disabled-fill-color: #AAA;\n",
              "      --disabled-bg-color: #DDD;\n",
              "  }\n",
              "\n",
              "  [theme=dark] .colab-df-quickchart {\n",
              "      --bg-color: #3B4455;\n",
              "      --fill-color: #D2E3FC;\n",
              "      --hover-bg-color: #434B5C;\n",
              "      --hover-fill-color: #FFFFFF;\n",
              "      --disabled-bg-color: #3B4455;\n",
              "      --disabled-fill-color: #666;\n",
              "  }\n",
              "\n",
              "  .colab-df-quickchart {\n",
              "    background-color: var(--bg-color);\n",
              "    border: none;\n",
              "    border-radius: 50%;\n",
              "    cursor: pointer;\n",
              "    display: none;\n",
              "    fill: var(--fill-color);\n",
              "    height: 32px;\n",
              "    padding: 0;\n",
              "    width: 32px;\n",
              "  }\n",
              "\n",
              "  .colab-df-quickchart:hover {\n",
              "    background-color: var(--hover-bg-color);\n",
              "    box-shadow: 0 1px 2px rgba(60, 64, 67, 0.3), 0 1px 3px 1px rgba(60, 64, 67, 0.15);\n",
              "    fill: var(--button-hover-fill-color);\n",
              "  }\n",
              "\n",
              "  .colab-df-quickchart-complete:disabled,\n",
              "  .colab-df-quickchart-complete:disabled:hover {\n",
              "    background-color: var(--disabled-bg-color);\n",
              "    fill: var(--disabled-fill-color);\n",
              "    box-shadow: none;\n",
              "  }\n",
              "\n",
              "  .colab-df-spinner {\n",
              "    border: 2px solid var(--fill-color);\n",
              "    border-color: transparent;\n",
              "    border-bottom-color: var(--fill-color);\n",
              "    animation:\n",
              "      spin 1s steps(1) infinite;\n",
              "  }\n",
              "\n",
              "  @keyframes spin {\n",
              "    0% {\n",
              "      border-color: transparent;\n",
              "      border-bottom-color: var(--fill-color);\n",
              "      border-left-color: var(--fill-color);\n",
              "    }\n",
              "    20% {\n",
              "      border-color: transparent;\n",
              "      border-left-color: var(--fill-color);\n",
              "      border-top-color: var(--fill-color);\n",
              "    }\n",
              "    30% {\n",
              "      border-color: transparent;\n",
              "      border-left-color: var(--fill-color);\n",
              "      border-top-color: var(--fill-color);\n",
              "      border-right-color: var(--fill-color);\n",
              "    }\n",
              "    40% {\n",
              "      border-color: transparent;\n",
              "      border-right-color: var(--fill-color);\n",
              "      border-top-color: var(--fill-color);\n",
              "    }\n",
              "    60% {\n",
              "      border-color: transparent;\n",
              "      border-right-color: var(--fill-color);\n",
              "    }\n",
              "    80% {\n",
              "      border-color: transparent;\n",
              "      border-right-color: var(--fill-color);\n",
              "      border-bottom-color: var(--fill-color);\n",
              "    }\n",
              "    90% {\n",
              "      border-color: transparent;\n",
              "      border-bottom-color: var(--fill-color);\n",
              "    }\n",
              "  }\n",
              "</style>\n",
              "\n",
              "      <script>\n",
              "        async function quickchart(key) {\n",
              "          const quickchartButtonEl =\n",
              "            document.querySelector('#' + key + ' button');\n",
              "          quickchartButtonEl.disabled = true;  // To prevent multiple clicks.\n",
              "          quickchartButtonEl.classList.add('colab-df-spinner');\n",
              "          try {\n",
              "            const charts = await google.colab.kernel.invokeFunction(\n",
              "                'suggestCharts', [key], {});\n",
              "          } catch (error) {\n",
              "            console.error('Error during call to suggestCharts:', error);\n",
              "          }\n",
              "          quickchartButtonEl.classList.remove('colab-df-spinner');\n",
              "          quickchartButtonEl.classList.add('colab-df-quickchart-complete');\n",
              "        }\n",
              "        (() => {\n",
              "          let quickchartButtonEl =\n",
              "            document.querySelector('#df-2041b60d-18d1-4369-8b64-18d062fa61e1 button');\n",
              "          quickchartButtonEl.style.display =\n",
              "            google.colab.kernel.accessAllowed ? 'block' : 'none';\n",
              "        })();\n",
              "      </script>\n",
              "    </div>\n",
              "\n",
              "    </div>\n",
              "  </div>\n"
            ],
            "application/vnd.google.colaboratory.intrinsic+json": {
              "type": "dataframe",
              "summary": "{\n  \"name\": \"display(subject_df\",\n  \"rows\": 5,\n  \"fields\": [\n    {\n      \"column\": \"eng\",\n      \"properties\": {\n        \"dtype\": \"string\",\n        \"num_unique_values\": 5,\n        \"samples\": [\n          \"Among the following organic acids, the acid present in rancid butter is:\\nA . pyruvic acid\\nB. lactic acid\\nc. butyric acid\\nD. acetic acid\",\n          \"Which of the following statement\\nregarding transformer is incorrect?\\nA. A transformer makes use of Faradays Law.\\nB. The ferromagnetic properties of an iron core is used by it to efficiently raise or lower AC voltage\\nC. It cannot increase power so that if the voltage is raised, the current is proportionally lowered and vice versa.\\nD. The current induced in primary circuit is of same nature as in secondary circuit with differences in amplitude only.\",\n          \"If the area of two similar triangles are equal, then they are\\nA . equilateral\\nB. isosceles\\nc. congruent\\nD. not congruent\"\n        ],\n        \"semantic_type\": \"\",\n        \"description\": \"\"\n      }\n    },\n    {\n      \"column\": \"Subject\",\n      \"properties\": {\n        \"dtype\": \"string\",\n        \"num_unique_values\": 4,\n        \"samples\": [\n          \"Chemistry\",\n          \"Physics\",\n          \"Biology\"\n        ],\n        \"semantic_type\": \"\",\n        \"description\": \"\"\n      }\n    }\n  ]\n}"
            }
          },
          "metadata": {}
        }
      ],
      "source": [
        "import pandas as pd\n",
        "import zipfile\n",
        "import os\n",
        "\n",
        "# Define the path to the zip file\n",
        "zip_file_path = r\"/subjects-questions.csv.zip\"\n",
        "extracted_dir = \"extracted_data\"\n",
        "csv_file_name = \"subjects-questions.csv\"\n",
        "csv_file_path = os.path.join(extracted_dir, csv_file_name)\n",
        "\n",
        "# Create a directory to extract the contents\n",
        "os.makedirs(extracted_dir, exist_ok=True)\n",
        "\n",
        "# Extract the CSV file from the zip file\n",
        "with zipfile.ZipFile(zip_file_path, 'r') as zip_ref:\n",
        "    zip_ref.extract(csv_file_name, extracted_dir)\n",
        "\n",
        "# creating a dataframe for our dataset \"neet-jee questions\"\n",
        "subject_df = pd.read_csv(csv_file_path)\n",
        "\n",
        "display(subject_df.head())"
      ]
    },
    {
      "cell_type": "code",
      "source": [
        "subject_count = subject_df['Subject'].value_counts()\n",
        "print(subject_count)"
      ],
      "metadata": {
        "colab": {
          "base_uri": "https://localhost:8080/"
        },
        "id": "pTvFuEbYWw54",
        "outputId": "82828e3f-188e-44f0-e963-b306ee9ed135"
      },
      "execution_count": 5,
      "outputs": [
        {
          "output_type": "stream",
          "name": "stdout",
          "text": [
            "Subject\n",
            "Physics      38438\n",
            "Chemistry    37767\n",
            "Maths        33190\n",
            "Biology      13124\n",
            "Name: count, dtype: int64\n"
          ]
        }
      ]
    },
    {
      "cell_type": "code",
      "source": [
        "#data preprocessing\n",
        "%pip install contractions"
      ],
      "metadata": {
        "colab": {
          "base_uri": "https://localhost:8080/"
        },
        "id": "vq__sSg4Y6By",
        "outputId": "d651cc19-85d2-45db-8823-04d749b0ac09"
      },
      "execution_count": 6,
      "outputs": [
        {
          "output_type": "stream",
          "name": "stdout",
          "text": [
            "Collecting contractions\n",
            "  Downloading contractions-0.1.73-py2.py3-none-any.whl.metadata (1.2 kB)\n",
            "Collecting textsearch>=0.0.21 (from contractions)\n",
            "  Downloading textsearch-0.0.24-py2.py3-none-any.whl.metadata (1.2 kB)\n",
            "Collecting anyascii (from textsearch>=0.0.21->contractions)\n",
            "  Downloading anyascii-0.3.3-py3-none-any.whl.metadata (1.6 kB)\n",
            "Collecting pyahocorasick (from textsearch>=0.0.21->contractions)\n",
            "  Downloading pyahocorasick-2.2.0-cp311-cp311-manylinux_2_17_x86_64.manylinux2014_x86_64.whl.metadata (13 kB)\n",
            "Downloading contractions-0.1.73-py2.py3-none-any.whl (8.7 kB)\n",
            "Downloading textsearch-0.0.24-py2.py3-none-any.whl (7.6 kB)\n",
            "Downloading anyascii-0.3.3-py3-none-any.whl (345 kB)\n",
            "\u001b[2K   \u001b[90m━━━━━━━━━━━━━━━━━━━━━━━━━━━━━━━━━━━━━━━━\u001b[0m \u001b[32m345.1/345.1 kB\u001b[0m \u001b[31m7.3 MB/s\u001b[0m eta \u001b[36m0:00:00\u001b[0m\n",
            "\u001b[?25hDownloading pyahocorasick-2.2.0-cp311-cp311-manylinux_2_17_x86_64.manylinux2014_x86_64.whl (113 kB)\n",
            "\u001b[2K   \u001b[90m━━━━━━━━━━━━━━━━━━━━━━━━━━━━━━━━━━━━━━━━\u001b[0m \u001b[32m113.9/113.9 kB\u001b[0m \u001b[31m7.6 MB/s\u001b[0m eta \u001b[36m0:00:00\u001b[0m\n",
            "\u001b[?25hInstalling collected packages: pyahocorasick, anyascii, textsearch, contractions\n",
            "Successfully installed anyascii-0.3.3 contractions-0.1.73 pyahocorasick-2.2.0 textsearch-0.0.24\n"
          ]
        }
      ]
    },
    {
      "cell_type": "code",
      "source": [
        "import contractions\n",
        "\n",
        "#Expanding contractions such as I'll to I will etc.\n",
        "def expand_contractions(s):\n",
        "    return contractions.fix(s)"
      ],
      "metadata": {
        "id": "SWU7zQFNadC7"
      },
      "execution_count": 7,
      "outputs": []
    },
    {
      "cell_type": "code",
      "source": [
        "#reducing the size of dataset and extracting physics questions\n",
        "df_physics = subject_df[subject_df['Subject']=='Physics'].sample(n = 1500)\n",
        "balanced_df = pd.concat([df_physics])\n",
        "balanced_df = balanced_df.sample(frac = 1)\n",
        "balanced_df.reset_index(drop=True, inplace=True)\n",
        "subject_df_clean = balanced_df.copy()\n",
        "subject_df_clean.rename(columns = {'eng':'Questions'}, inplace = True)\n",
        "print(subject_df_clean)\n"
      ],
      "metadata": {
        "colab": {
          "base_uri": "https://localhost:8080/"
        },
        "id": "HFFp9ZEpcnk7",
        "outputId": "9da8e218-a618-4c8b-eb05-ae9b6300716d"
      },
      "execution_count": 8,
      "outputs": [
        {
          "output_type": "stream",
          "name": "stdout",
          "text": [
            "                                              Questions  Subject\n",
            "0     The adjoining diagram shows the\\nspectral ener...  Physics\n",
            "1     The energy band gap (distance between the cond...  Physics\n",
            "2     Vertical displacement of a plank with a body o...  Physics\n",
            "3     When you heat the water in a pot, it\\nboils. W...  Physics\n",
            "4     Match list A and list B accurately:\\nList \\( \\...  Physics\n",
            "...                                                 ...      ...\n",
            "1495                  Temperature is measured in degree  Physics\n",
            "1496  The horizontal component of earth's magnetic f...  Physics\n",
            "1497  A circuit element shown in the figure as\\nbox ...  Physics\n",
            "1498  Assertion\\nWe can live very happily if the fri...  Physics\n",
            "1499  The potential energy function for\\na particle ...  Physics\n",
            "\n",
            "[1500 rows x 2 columns]\n"
          ]
        }
      ]
    },
    {
      "cell_type": "code",
      "source": [
        "import spacy\n",
        "nlp = spacy.load('en_core_web_sm')\n",
        "\n",
        "# Create a Doc object\n",
        "def lemmatize_sentence(sentence):\n",
        "    doc = nlp(sentence)\n",
        "    # Create list of tokens from given string\n",
        "    tokens = []\n",
        "    for token in doc:\n",
        "        tokens.append(token)\n",
        "    lemmatized_sentence = \" \".join([token.lemma_ for token in doc])\n",
        "    return lemmatized_sentence\n",
        "\n",
        "\n",
        "import re\n",
        "from nltk.corpus import stopwords\n",
        "\n",
        "def clean_data(clean_sentence):\n",
        "\n",
        "    clean_sentence = clean_sentence.lower()  #converting to lowercase\n",
        "    clean_sentence = re.sub(r'[^\\w\\s]', '', clean_sentence)  #removing punctuations like \"/\", \";\" \"[\", \"]\" \"=\", \"#\" etc.\n",
        "    clean_sentence = re.sub(r'\\s', ' ', clean_sentence) #removing extra spaces\n",
        "    clean_sentence = expand_contractions(clean_sentence)\n",
        "    clean_sentence = clean_sentence.split()  #tokenization: splitting sentence into words\n",
        "\n",
        "    stop_words = set(stopwords.words('english'))\n",
        "    clean_lst = []  #removing stop words like if, but, or etc. and removing characters of length 1\n",
        "    for word in clean_sentence:\n",
        "        if word not in stop_words and len(word) > 1:\n",
        "          clean_lst.append(word)\n",
        "    return lemmatize_sentence(' '.join(clean_lst))\n",
        "\n",
        "subject_df_clean['cleaned_question'] = subject_df_clean['Questions'].apply(clean_data)\n",
        "\n",
        "sentence = subject_df_clean['Questions'][84]\n",
        "print(sentence)\n",
        "sentence = clean_data(sentence)\n",
        "print(\"\\n\\n\")\n",
        "print(sentence)"
      ],
      "metadata": {
        "colab": {
          "base_uri": "https://localhost:8080/"
        },
        "id": "9w8XFdrEf3e1",
        "outputId": "420ab250-1a2f-462c-cbbb-19cff7cab5b3"
      },
      "execution_count": 12,
      "outputs": [
        {
          "output_type": "stream",
          "name": "stdout",
          "text": [
            "The potential energy \\( U \\) for a force field \\( \\vec{F} \\) is such that \\( U=-K x y, \\) where \\( K \\) is\n",
            "a constant. Then\n",
            "\\( \\mathbf{A} \\cdot \\vec{F}=K y \\hat{i}+K x \\hat{j} \\)\n",
            "В . \\( \\vec{F}=K x \\hat{i}+K y \\hat{j} \\)\n",
            "c. \\( \\bar{F} \\) is a conservative force\n",
            "D. \\( \\vec{F} \\) is a non-conservation force\n",
            "\n",
            "\n",
            "\n",
            "potential energy force field vecf uk constant mathbfa cdot vecfk hatik hatj vecfk hatik hatj barf conservative force vecf nonconservation force\n"
          ]
        }
      ]
    },
    {
      "cell_type": "code",
      "source": [
        "import spacy.cli\n",
        "spacy.cli.download(\"en_core_web_sm\")\n"
      ],
      "metadata": {
        "colab": {
          "base_uri": "https://localhost:8080/"
        },
        "id": "HD50OacEtSJ5",
        "outputId": "9eda689a-51d4-4358-892a-8d8626994503"
      },
      "execution_count": 10,
      "outputs": [
        {
          "output_type": "stream",
          "name": "stdout",
          "text": [
            "\u001b[38;5;2m✔ Download and installation successful\u001b[0m\n",
            "You can now load the package via spacy.load('en_core_web_sm')\n",
            "\u001b[38;5;3m⚠ Restart to reload dependencies\u001b[0m\n",
            "If you are in a Jupyter or Colab notebook, you may need to restart Python in\n",
            "order to load all the package's dependencies. You can do this by selecting the\n",
            "'Restart kernel' or 'Restart runtime' option.\n"
          ]
        }
      ]
    },
    {
      "cell_type": "code",
      "metadata": {
        "colab": {
          "base_uri": "https://localhost:8080/"
        },
        "id": "f08b5ec5",
        "outputId": "559c72e9-6889-40fe-9025-0c0ee3cbd8ee"
      },
      "source": [
        "import nltk\n",
        "nltk.download('stopwords')"
      ],
      "execution_count": 11,
      "outputs": [
        {
          "output_type": "stream",
          "name": "stderr",
          "text": [
            "[nltk_data] Downloading package stopwords to /root/nltk_data...\n",
            "[nltk_data]   Unzipping corpora/stopwords.zip.\n"
          ]
        },
        {
          "output_type": "execute_result",
          "data": {
            "text/plain": [
              "True"
            ]
          },
          "metadata": {},
          "execution_count": 11
        }
      ]
    },
    {
      "cell_type": "code",
      "source": [
        "keyword_topic_map = {\n",
        "    # Easy Topics\n",
        "    \"Kinematics\": [\"motion\", \"velocity\", \"displacement\", \"acceleration\", \"graph\", \"uniform\", \"non-uniform\", \"rest\"],\n",
        "    \"Optics\": [\"mirror\", \"lens\", \"refraction\", \"reflection\", \"focal\", \"image\", \"optical\", \"light\"],\n",
        "\n",
        "    #  Medium Topics\n",
        "    \"Mechanics\": [\"force\", \"friction\", \"newton\", \"mass\", \"energy\", \"momentum\", \"projectile\", \"work\", \"power\", \"torque\"],\n",
        "    \"Thermodynamics\": [\"temperature\", \"heat\", \"gas\", \"entropy\", \"internal energy\", \"expansion\", \"laws of thermodynamics\"],\n",
        "\n",
        "    # Hard Topics\n",
        "    \"Electricity\": [\"current\", \"voltage\", \"resistance\", \"ohm\", \"circuit\", \"capacitor\", \"inductor\", \"charge\", \"battery\"],\n",
        "    \"Modern Physics\": [\"quantum\", \"photoelectric\", \"relativity\", \"nuclear\", \"radioactivity\", \"atom\", \"isotope\", \"electron\", \"de broglie\", \"dual nature\", \"planck\", \"wave-particle\", \"bohr\"\n",
        "    ]\n",
        "}\n",
        "\n",
        "def classify_topic(question):\n",
        "    question = question.lower()\n",
        "    for topic, keywords in keyword_topic_map.items():\n",
        "        for kw in keywords:\n",
        "            if kw in question:\n",
        "                return topic\n",
        "    return \"Other\"\n",
        "\n",
        "subject_df_clean['topic'] = subject_df_clean['cleaned_question'].apply(classify_topic)\n",
        "\n",
        "#defining difficulty level according to topics\n",
        "difficulty_map = {\n",
        "    \"Kinematics\": \"Easy\",\n",
        "    \"Optics\": \"Easy\",\n",
        "    \"Mechanics\": \"Medium\",\n",
        "    \"Thermodynamics\": \"Medium\",\n",
        "    \"Electricity\": \"Hard\",\n",
        "    \"Modern Physics\": \"Hard\",\n",
        "    \"Other\": \"Unknown\"\n",
        "}\n",
        "\n",
        "subject_df_clean['Topic_Difficulty'] = subject_df_clean['Topic'].map(difficulty_map)\n",
        "print(subject_df_clean['Topic'].value_counts())\n",
        "\n",
        "\n",
        "\n"
      ],
      "metadata": {
        "colab": {
          "base_uri": "https://localhost:8080/"
        },
        "id": "CgrM_2NVp1Tz",
        "outputId": "3fefcf51-d75f-4218-ab7e-67aafdcee426"
      },
      "execution_count": 36,
      "outputs": [
        {
          "output_type": "stream",
          "name": "stdout",
          "text": [
            "Topic\n",
            "Other             381\n",
            "Kinematics        331\n",
            "Mechanics         320\n",
            "Electricity       182\n",
            "Optics            167\n",
            "Thermodynamics     91\n",
            "Modern Physics     28\n",
            "Name: count, dtype: int64\n"
          ]
        }
      ]
    },
    {
      "cell_type": "code",
      "source": [
        "import random\n",
        "\n",
        "# Simulating student data for Physics quiz system\n",
        "subject_df_clean['student_id'] = [random.randint(1001, 1100) for _ in range(len(subject_df_clean))]\n",
        "subject_df_clean['quiz_attempt'] = [random.randint(1, 10) for _ in range(len(subject_df_clean))]\n",
        "subject_df_clean['score'] = [random.randint(20, 100) for _ in range(len(subject_df_clean))]\n",
        "subject_df_clean['time_taken'] = [random.randint(30, 300) for _ in range(len(subject_df_clean))]\n",
        "\n",
        "# Difficulty level based on score\n",
        "subject_df_clean['difficulty'] = subject_df_clean['score'].apply(\n",
        "    lambda s: 'Easy' if s < 40 else ('Medium' if s < 70 else 'Hard')\n",
        ")\n",
        "\n",
        "# Rule-based recommendation of next topic\n",
        "def recommend_next(row):\n",
        "    if row['score'] < 40:\n",
        "        return row['topic'].lower()  # Retry the same topic, ensure lowercase\n",
        "    elif row['score'] < 70:\n",
        "        return random.choice(['mechanics', 'optics','electricity']).lower() # Ensure lowercase\n",
        "    else:\n",
        "        return random.choice(['thermodynamics', 'kinematics']).lower() # Ensure lowercase\n",
        "\n",
        "subject_df_clean['recommended_next_topic'] = subject_df_clean.apply(recommend_next, axis=1)"
      ],
      "metadata": {
        "id": "hPjU1wTWnBhr"
      },
      "execution_count": 20,
      "outputs": []
    },
    {
      "cell_type": "code",
      "source": [
        "#AI Engine\n",
        "from sklearn.preprocessing import LabelEncoder\n",
        "from sklearn.model_selection import train_test_split\n",
        "from sklearn.ensemble import RandomForestClassifier\n",
        "from sklearn.metrics import accuracy_score, classification_report\n",
        "import numpy as np\n",
        "\n",
        "# Step 1: Label Encoding\n",
        "le_topic = LabelEncoder()\n",
        "le_diff = LabelEncoder()\n",
        "le_next = LabelEncoder()\n",
        "\n",
        "subject_df_clean['topic_enc'] = le_topic.fit_transform(subject_df_clean['Topic'])\n",
        "subject_df_clean['diff_enc'] = le_diff.fit_transform(subject_df_clean['difficulty'])\n",
        "subject_df_clean['target_enc'] = le_next.fit_transform(subject_df_clean['recommended_next_topic'])\n",
        "\n",
        "# Step 2: Define features and target\n",
        "X = subject_df_clean[['topic_enc', 'diff_enc', 'score', 'quiz_attempt', 'time_taken']]\n",
        "y = subject_df_clean['target_enc']\n",
        "\n",
        "# Step 3: Split data\n",
        "X_train, X_test, y_train, y_test = train_test_split(X, y, test_size=0.2, random_state=42)\n",
        "\n",
        "# Step 4: Train model\n",
        "model = RandomForestClassifier(random_state=42)\n",
        "model.fit(X_train, y_train)\n",
        "\n",
        "# Step 5: Evaluate model\n",
        "y_pred = model.predict(X_test)\n",
        "print(\"Accuracy:\", accuracy_score(y_test, y_pred))\n",
        "\n",
        "# Get unique labels from y_test and y_pred\n",
        "unique_labels = np.unique(np.concatenate((y_test, y_pred)))\n",
        "\n",
        "# Get target names corresponding to the unique labels\n",
        "target_names_subset = le_next.inverse_transform(unique_labels)\n",
        "\n",
        "print(\"\\nClassification Report:\\n\", classification_report(y_test, y_pred, labels=unique_labels, target_names=target_names_subset))"
      ],
      "metadata": {
        "colab": {
          "base_uri": "https://localhost:8080/"
        },
        "id": "BOEUjYFgxgd-",
        "outputId": "0d2249db-783b-48d2-8cb8-cd3ea0faee7d"
      },
      "execution_count": 52,
      "outputs": [
        {
          "output_type": "stream",
          "name": "stdout",
          "text": [
            "Accuracy: 0.5566666666666666\n",
            "\n",
            "Classification Report:\n",
            "                 precision    recall  f1-score   support\n",
            "\n",
            "   electricity       0.41      0.46      0.44        41\n",
            "    kinematics       0.67      0.56      0.61        87\n",
            "     mechanics       0.59      0.53      0.56        57\n",
            "        optics       0.45      0.46      0.46        41\n",
            "         other       1.00      1.00      1.00        19\n",
            "thermodynamics       0.45      0.56      0.50        55\n",
            "\n",
            "      accuracy                           0.56       300\n",
            "     macro avg       0.60      0.60      0.59       300\n",
            "  weighted avg       0.57      0.56      0.56       300\n",
            "\n"
          ]
        }
      ]
    },
    {
      "cell_type": "code",
      "source": [
        "# testing the model\n",
        "sample_input = [[2, 1, 65, 3, 120]]  # topic_enc, diff_enc, score, quiz_attempt, time_taken\n",
        "predicted_topic_enc = model.predict(sample_input)[0]\n",
        "predicted_topic = le_next.inverse_transform([predicted_topic_enc])[0]\n",
        "print(\"Predicted Recommended Topic:\", predicted_topic)\n"
      ],
      "metadata": {
        "colab": {
          "base_uri": "https://localhost:8080/"
        },
        "id": "aNAEs_V1-PQc",
        "outputId": "20fb2b09-e3f1-4196-b2cb-8a6d25e2059b"
      },
      "execution_count": 25,
      "outputs": [
        {
          "output_type": "stream",
          "name": "stdout",
          "text": [
            "Predicted Recommended Topic: mechanics\n"
          ]
        },
        {
          "output_type": "stream",
          "name": "stderr",
          "text": [
            "/usr/local/lib/python3.11/dist-packages/sklearn/utils/validation.py:2739: UserWarning: X does not have valid feature names, but RandomForestClassifier was fitted with feature names\n",
            "  warnings.warn(\n"
          ]
        }
      ]
    },
    {
      "cell_type": "code",
      "source": [
        "import pandas as pd\n",
        "all_topics = subject_df_clean['topic'].unique()\n",
        "all_topics_enc = le_topic.transform(all_topics)\n",
        "difficulty_levels = ['Easy', 'Medium', 'Hard']\n",
        "difficulty_enc = le_diff.transform(difficulty_levels)\n",
        "test_data = []\n",
        "for topic_enc, topic_name in zip(all_topics_enc, all_topics):\n",
        "    for diff_name, diff_enc_val in zip(difficulty_levels, difficulty_enc):\n",
        "        test_data.append({\n",
        "            'topic': topic_name,\n",
        "            'topic_enc': topic_enc,\n",
        "            'diff_enc': diff_enc_val,\n",
        "            'score': 60 if diff_name == 'Medium' else (35 if diff_name == 'Easy' else 85),\n",
        "            'quiz_attempt': 2,\n",
        "            'time_taken': 100\n",
        "        })\n",
        "test_df = pd.DataFrame(test_data)\n",
        "X_test = test_df[['topic_enc', 'diff_enc', 'score', 'quiz_attempt', 'time_taken']]\n",
        "test_df['predicted_topic_enc'] = model.predict(X_test)\n",
        "test_df['predicted_recommendation'] = le_next.inverse_transform(test_df['predicted_topic_enc'])\n",
        "result_df = test_df[['topic', 'score', 'diff_enc', 'predicted_recommendation']]\n",
        "print(result_df.to_string(index=False))\n"
      ],
      "metadata": {
        "colab": {
          "base_uri": "https://localhost:8080/"
        },
        "id": "p3wvffFwCs2A",
        "outputId": "f5c7ca49-5e2d-4c5a-e625-b91ff8223316"
      },
      "execution_count": 37,
      "outputs": [
        {
          "output_type": "stream",
          "name": "stdout",
          "text": [
            "         topic  score  diff_enc predicted_recommendation\n",
            "     Mechanics     35         0                mechanics\n",
            "     Mechanics     60         2              electricity\n",
            "     Mechanics     85         1           thermodynamics\n",
            "    Kinematics     35         0               kinematics\n",
            "    Kinematics     60         2              electricity\n",
            "    Kinematics     85         1           thermodynamics\n",
            "        Optics     35         0                   optics\n",
            "        Optics     60         2              electricity\n",
            "        Optics     85         1               kinematics\n",
            "         Other     35         0                    other\n",
            "         Other     60         2              electricity\n",
            "         Other     85         1               kinematics\n",
            "   Electricity     35         0              electricity\n",
            "   Electricity     60         2              electricity\n",
            "   Electricity     85         1           thermodynamics\n",
            "Thermodynamics     35         0           thermodynamics\n",
            "Thermodynamics     60         2              electricity\n",
            "Thermodynamics     85         1               kinematics\n",
            "Modern Physics     35         0                mechanics\n",
            "Modern Physics     60         2              electricity\n",
            "Modern Physics     85         1           thermodynamics\n"
          ]
        }
      ]
    },
    {
      "cell_type": "code",
      "source": [
        "# creating quizes per topic\n",
        "subject_df_clean['quiz_id'] = ['QZ' + str(i).zfill(4) for i in range(len(subject_df_clean))]\n",
        "subject_df_clean['quiz_question'] = subject_df_clean['Questions']\n",
        "\n",
        "quiz_bank = {\n",
        "    topic: group[['quiz_id', 'quiz_question']].sample(min(10, len(group)))\n",
        "    for topic, group in subject_df_clean.groupby('Topic')\n",
        "}"
      ],
      "metadata": {
        "id": "VI_a-nBAHoMu"
      },
      "execution_count": 40,
      "outputs": []
    },
    {
      "cell_type": "code",
      "source": [
        "def recommend_next_quiz_set(row):\n",
        "    input_row = pd.DataFrame([{\n",
        "        'topic_enc': le_topic.transform([row['Topic']])[0],\n",
        "        'diff_enc': le_diff.transform([row['difficulty']])[0],\n",
        "        'score': row['score'],\n",
        "        'quiz_attempt': row['quiz_attempt'],\n",
        "        'time_taken': row['time_taken']\n",
        "    }])\n",
        "\n",
        "    # Predict\n",
        "    predicted_topic = le_next.inverse_transform([model.predict(input_row)[0]])[0]\n",
        "\n",
        "    # Rule-based\n",
        "    if row['score'] < 40:\n",
        "        predicted_topic = row['Topic']\n",
        "        message = f\"😐 You need more practice. Retrying topic: {predicted_topic}.\"\n",
        "    elif row['score'] < 70:\n",
        "        message = f\"🙂 You're doing okay. Let's try a Medium level topic: {predicted_topic}.\"\n",
        "    else:\n",
        "        message = f\"🔥 Great job! Advancing to a harder topic: {predicted_topic}.\"\n",
        "\n",
        "    # Get quiz set\n",
        "    quiz_set = quiz_bank.get(predicted_topic, pd.DataFrame())\n",
        "\n",
        "    return {\n",
        "        \"Next Topic\": predicted_topic,\n",
        "        \"Message\": message,\n",
        "        \"Quiz Set\": quiz_set\n",
        "    }\n"
      ],
      "metadata": {
        "id": "Tag8SE0cLsXI"
      },
      "execution_count": 48,
      "outputs": []
    },
    {
      "cell_type": "code",
      "source": [
        "student = subject_df_clean.iloc[0]\n",
        "result = recommend_next_quiz_set(student)\n",
        "\n",
        "print(result['Message'])\n",
        "print(f\"\\n📘 Recommended Quiz on: {result['Next Topic']}\")\n",
        "for i, q in result['Quiz Set'].iterrows():\n",
        "    print(f\"{i+1}. {q['quiz_question']}\")\n"
      ],
      "metadata": {
        "colab": {
          "base_uri": "https://localhost:8080/"
        },
        "id": "TFy-fcNGLuYo",
        "outputId": "54e1d1e2-6769-4102-810a-7f5ea5a3ebf2"
      },
      "execution_count": 50,
      "outputs": [
        {
          "output_type": "stream",
          "name": "stdout",
          "text": [
            "🔥 Great job! Advancing to a harder topic: thermodynamics.\n",
            "\n",
            "📘 Recommended Quiz on: thermodynamics\n"
          ]
        }
      ]
    },
    {
      "cell_type": "code",
      "source": [
        "#evaluating the model\n",
        "from sklearn.metrics import classification_report, confusion_matrix, accuracy_score\n",
        "\n",
        "y_pred = model.predict(X_test)\n",
        "print(\"Accuracy:\", accuracy_score(y_test, y_pred))\n",
        "print(\"Confusion Matrix:\\n\", confusion_matrix(y_test, y_pred))\n",
        "print(\"Classification Report:\\n\", classification_report(y_test, y_pred))\n"
      ],
      "metadata": {
        "colab": {
          "base_uri": "https://localhost:8080/"
        },
        "id": "EDXnuVedM6gT",
        "outputId": "be610882-482f-40e9-dbd3-f359c103caba"
      },
      "execution_count": 53,
      "outputs": [
        {
          "output_type": "stream",
          "name": "stdout",
          "text": [
            "Accuracy: 0.5566666666666666\n",
            "Confusion Matrix:\n",
            " [[19  0 12 10  0  0]\n",
            " [ 0 49  0  0  0 38]\n",
            " [14  0 30 13  0  0]\n",
            " [13  0  9 19  0  0]\n",
            " [ 0  0  0  0 19  0]\n",
            " [ 0 24  0  0  0 31]]\n",
            "Classification Report:\n",
            "               precision    recall  f1-score   support\n",
            "\n",
            "           0       0.41      0.46      0.44        41\n",
            "           1       0.67      0.56      0.61        87\n",
            "           2       0.59      0.53      0.56        57\n",
            "           4       0.45      0.46      0.46        41\n",
            "           5       1.00      1.00      1.00        19\n",
            "           6       0.45      0.56      0.50        55\n",
            "\n",
            "    accuracy                           0.56       300\n",
            "   macro avg       0.60      0.60      0.59       300\n",
            "weighted avg       0.57      0.56      0.56       300\n",
            "\n"
          ]
        }
      ]
    },
    {
      "cell_type": "code",
      "source": [
        "for i in range(10):\n",
        "    student = subject_df_clean.iloc[i]\n",
        "    result = recommend_next_quiz_set(student)\n",
        "    print(f\"\\nStudent {student['student_id']}: {result['Message']}\")\n",
        "    print(f\"Recommended Topic: {result['Next Topic']}\")\n"
      ],
      "metadata": {
        "colab": {
          "base_uri": "https://localhost:8080/"
        },
        "id": "QEl4WPpfRPjh",
        "outputId": "910237e7-cdae-488d-c624-e103bf458afb"
      },
      "execution_count": 58,
      "outputs": [
        {
          "output_type": "stream",
          "name": "stdout",
          "text": [
            "\n",
            "Student 1049: 🔥 Great job! Advancing to a harder topic: thermodynamics.\n",
            "Recommended Topic: thermodynamics\n",
            "\n",
            "Student 1053: 🔥 Great job! Advancing to a harder topic: thermodynamics.\n",
            "Recommended Topic: thermodynamics\n",
            "\n",
            "Student 1017: 🔥 Great job! Advancing to a harder topic: kinematics.\n",
            "Recommended Topic: kinematics\n",
            "\n",
            "Student 1053: 🔥 Great job! Advancing to a harder topic: thermodynamics.\n",
            "Recommended Topic: thermodynamics\n",
            "\n",
            "Student 1025: 🙂 You're doing okay. Let's try a Medium level topic: optics.\n",
            "Recommended Topic: optics\n",
            "\n",
            "Student 1074: 🔥 Great job! Advancing to a harder topic: thermodynamics.\n",
            "Recommended Topic: thermodynamics\n",
            "\n",
            "Student 1001: 😐 You need more practice. Retrying topic: Kinematics.\n",
            "Recommended Topic: Kinematics\n",
            "\n",
            "Student 1041: 😐 You need more practice. Retrying topic: Other.\n",
            "Recommended Topic: Other\n",
            "\n",
            "Student 1042: 🙂 You're doing okay. Let's try a Medium level topic: optics.\n",
            "Recommended Topic: optics\n",
            "\n",
            "Student 1080: 🙂 You're doing okay. Let's try a Medium level topic: electricity.\n",
            "Recommended Topic: electricity\n"
          ]
        }
      ]
    }
  ]
}